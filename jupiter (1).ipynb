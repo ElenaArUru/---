{
 "cells": [
  {
   "cell_type": "code",
   "execution_count": 1,
   "id": "94ba444b",
   "metadata": {},
   "outputs": [
    {
     "data": {
      "text/html": [
       "<div>\n",
       "<style scoped>\n",
       "    .dataframe tbody tr th:only-of-type {\n",
       "        vertical-align: middle;\n",
       "    }\n",
       "\n",
       "    .dataframe tbody tr th {\n",
       "        vertical-align: top;\n",
       "    }\n",
       "\n",
       "    .dataframe thead th {\n",
       "        text-align: right;\n",
       "    }\n",
       "</style>\n",
       "<table border=\"1\" class=\"dataframe\">\n",
       "  <thead>\n",
       "    <tr style=\"text-align: right;\">\n",
       "      <th></th>\n",
       "      <th>rank</th>\n",
       "      <th>title</th>\n",
       "      <th>total ratings</th>\n",
       "      <th>installs</th>\n",
       "      <th>average rating</th>\n",
       "      <th>growth (30 days)</th>\n",
       "      <th>growth (60 days)</th>\n",
       "      <th>price</th>\n",
       "      <th>category</th>\n",
       "      <th>5 star ratings</th>\n",
       "      <th>4 star ratings</th>\n",
       "      <th>3 star ratings</th>\n",
       "      <th>2 star ratings</th>\n",
       "      <th>1 star ratings</th>\n",
       "      <th>paid</th>\n",
       "    </tr>\n",
       "  </thead>\n",
       "  <tbody>\n",
       "    <tr>\n",
       "      <th>0</th>\n",
       "      <td>1</td>\n",
       "      <td>Garena Free Fire- World Series</td>\n",
       "      <td>86273129</td>\n",
       "      <td>500.0 M</td>\n",
       "      <td>4</td>\n",
       "      <td>2.1</td>\n",
       "      <td>6.9</td>\n",
       "      <td>0.0</td>\n",
       "      <td>GAME ACTION</td>\n",
       "      <td>63546766</td>\n",
       "      <td>4949507</td>\n",
       "      <td>3158756</td>\n",
       "      <td>2122183</td>\n",
       "      <td>12495915</td>\n",
       "      <td>False</td>\n",
       "    </tr>\n",
       "    <tr>\n",
       "      <th>1</th>\n",
       "      <td>2</td>\n",
       "      <td>PUBG MOBILE - Traverse</td>\n",
       "      <td>37276732</td>\n",
       "      <td>500.0 M</td>\n",
       "      <td>4</td>\n",
       "      <td>1.8</td>\n",
       "      <td>3.6</td>\n",
       "      <td>0.0</td>\n",
       "      <td>GAME ACTION</td>\n",
       "      <td>28339753</td>\n",
       "      <td>2164478</td>\n",
       "      <td>1253185</td>\n",
       "      <td>809821</td>\n",
       "      <td>4709492</td>\n",
       "      <td>False</td>\n",
       "    </tr>\n",
       "    <tr>\n",
       "      <th>2</th>\n",
       "      <td>3</td>\n",
       "      <td>Mobile Legends: Bang Bang</td>\n",
       "      <td>26663595</td>\n",
       "      <td>100.0 M</td>\n",
       "      <td>4</td>\n",
       "      <td>1.5</td>\n",
       "      <td>3.2</td>\n",
       "      <td>0.0</td>\n",
       "      <td>GAME ACTION</td>\n",
       "      <td>18777988</td>\n",
       "      <td>1812094</td>\n",
       "      <td>1050600</td>\n",
       "      <td>713912</td>\n",
       "      <td>4308998</td>\n",
       "      <td>False</td>\n",
       "    </tr>\n",
       "    <tr>\n",
       "      <th>3</th>\n",
       "      <td>4</td>\n",
       "      <td>Brawl Stars</td>\n",
       "      <td>17971552</td>\n",
       "      <td>100.0 M</td>\n",
       "      <td>4</td>\n",
       "      <td>1.4</td>\n",
       "      <td>4.4</td>\n",
       "      <td>0.0</td>\n",
       "      <td>GAME ACTION</td>\n",
       "      <td>13018610</td>\n",
       "      <td>1552950</td>\n",
       "      <td>774012</td>\n",
       "      <td>406184</td>\n",
       "      <td>2219794</td>\n",
       "      <td>False</td>\n",
       "    </tr>\n",
       "    <tr>\n",
       "      <th>4</th>\n",
       "      <td>5</td>\n",
       "      <td>Sniper 3D: Fun Free Online FPS Shooting Game</td>\n",
       "      <td>14464235</td>\n",
       "      <td>500.0 M</td>\n",
       "      <td>4</td>\n",
       "      <td>0.8</td>\n",
       "      <td>1.5</td>\n",
       "      <td>0.0</td>\n",
       "      <td>GAME ACTION</td>\n",
       "      <td>9827328</td>\n",
       "      <td>2124154</td>\n",
       "      <td>1047741</td>\n",
       "      <td>380670</td>\n",
       "      <td>1084340</td>\n",
       "      <td>False</td>\n",
       "    </tr>\n",
       "    <tr>\n",
       "      <th>...</th>\n",
       "      <td>...</td>\n",
       "      <td>...</td>\n",
       "      <td>...</td>\n",
       "      <td>...</td>\n",
       "      <td>...</td>\n",
       "      <td>...</td>\n",
       "      <td>...</td>\n",
       "      <td>...</td>\n",
       "      <td>...</td>\n",
       "      <td>...</td>\n",
       "      <td>...</td>\n",
       "      <td>...</td>\n",
       "      <td>...</td>\n",
       "      <td>...</td>\n",
       "      <td>...</td>\n",
       "    </tr>\n",
       "    <tr>\n",
       "      <th>1725</th>\n",
       "      <td>96</td>\n",
       "      <td>زوايا - لعبة ستحرك زوايا عقلك</td>\n",
       "      <td>112408</td>\n",
       "      <td>1.0 M</td>\n",
       "      <td>4</td>\n",
       "      <td>0.9</td>\n",
       "      <td>1.8</td>\n",
       "      <td>0.0</td>\n",
       "      <td>GAME WORD</td>\n",
       "      <td>101036</td>\n",
       "      <td>3607</td>\n",
       "      <td>3237</td>\n",
       "      <td>1229</td>\n",
       "      <td>3297</td>\n",
       "      <td>False</td>\n",
       "    </tr>\n",
       "    <tr>\n",
       "      <th>1726</th>\n",
       "      <td>97</td>\n",
       "      <td>Bible Word Puzzle - Free Bible Word Games</td>\n",
       "      <td>111595</td>\n",
       "      <td>1.0 M</td>\n",
       "      <td>4</td>\n",
       "      <td>0.9</td>\n",
       "      <td>2.3</td>\n",
       "      <td>0.0</td>\n",
       "      <td>GAME WORD</td>\n",
       "      <td>88950</td>\n",
       "      <td>14856</td>\n",
       "      <td>4297</td>\n",
       "      <td>1385</td>\n",
       "      <td>2103</td>\n",
       "      <td>False</td>\n",
       "    </tr>\n",
       "    <tr>\n",
       "      <th>1727</th>\n",
       "      <td>98</td>\n",
       "      <td>Scrabble® GO - New Word Game</td>\n",
       "      <td>110723</td>\n",
       "      <td>10.0 M</td>\n",
       "      <td>4</td>\n",
       "      <td>0.9</td>\n",
       "      <td>1.9</td>\n",
       "      <td>0.0</td>\n",
       "      <td>GAME WORD</td>\n",
       "      <td>64184</td>\n",
       "      <td>18332</td>\n",
       "      <td>9385</td>\n",
       "      <td>6688</td>\n",
       "      <td>12132</td>\n",
       "      <td>False</td>\n",
       "    </tr>\n",
       "    <tr>\n",
       "      <th>1728</th>\n",
       "      <td>99</td>\n",
       "      <td>Word Nut: Word Puzzle Games &amp; Crosswords</td>\n",
       "      <td>109530</td>\n",
       "      <td>5.0 M</td>\n",
       "      <td>4</td>\n",
       "      <td>1.9</td>\n",
       "      <td>4.1</td>\n",
       "      <td>0.0</td>\n",
       "      <td>GAME WORD</td>\n",
       "      <td>99987</td>\n",
       "      <td>4766</td>\n",
       "      <td>1469</td>\n",
       "      <td>953</td>\n",
       "      <td>2353</td>\n",
       "      <td>False</td>\n",
       "    </tr>\n",
       "    <tr>\n",
       "      <th>1729</th>\n",
       "      <td>100</td>\n",
       "      <td>Pinturillo 2</td>\n",
       "      <td>108917</td>\n",
       "      <td>10.0 M</td>\n",
       "      <td>3</td>\n",
       "      <td>1.1</td>\n",
       "      <td>2.5</td>\n",
       "      <td>0.0</td>\n",
       "      <td>GAME WORD</td>\n",
       "      <td>50813</td>\n",
       "      <td>16480</td>\n",
       "      <td>11825</td>\n",
       "      <td>6166</td>\n",
       "      <td>23631</td>\n",
       "      <td>False</td>\n",
       "    </tr>\n",
       "  </tbody>\n",
       "</table>\n",
       "<p>1730 rows × 15 columns</p>\n",
       "</div>"
      ],
      "text/plain": [
       "      rank                                         title  total ratings  \\\n",
       "0        1                Garena Free Fire- World Series       86273129   \n",
       "1        2                        PUBG MOBILE - Traverse       37276732   \n",
       "2        3                     Mobile Legends: Bang Bang       26663595   \n",
       "3        4                                   Brawl Stars       17971552   \n",
       "4        5  Sniper 3D: Fun Free Online FPS Shooting Game       14464235   \n",
       "...    ...                                           ...            ...   \n",
       "1725    96                 زوايا - لعبة ستحرك زوايا عقلك         112408   \n",
       "1726    97     Bible Word Puzzle - Free Bible Word Games         111595   \n",
       "1727    98                  Scrabble® GO - New Word Game         110723   \n",
       "1728    99      Word Nut: Word Puzzle Games & Crosswords         109530   \n",
       "1729   100                                  Pinturillo 2         108917   \n",
       "\n",
       "     installs  average rating  growth (30 days)  growth (60 days)  price  \\\n",
       "0     500.0 M               4               2.1               6.9    0.0   \n",
       "1     500.0 M               4               1.8               3.6    0.0   \n",
       "2     100.0 M               4               1.5               3.2    0.0   \n",
       "3     100.0 M               4               1.4               4.4    0.0   \n",
       "4     500.0 M               4               0.8               1.5    0.0   \n",
       "...       ...             ...               ...               ...    ...   \n",
       "1725    1.0 M               4               0.9               1.8    0.0   \n",
       "1726    1.0 M               4               0.9               2.3    0.0   \n",
       "1727   10.0 M               4               0.9               1.9    0.0   \n",
       "1728    5.0 M               4               1.9               4.1    0.0   \n",
       "1729   10.0 M               3               1.1               2.5    0.0   \n",
       "\n",
       "         category  5 star ratings  4 star ratings  3 star ratings  \\\n",
       "0     GAME ACTION        63546766         4949507         3158756   \n",
       "1     GAME ACTION        28339753         2164478         1253185   \n",
       "2     GAME ACTION        18777988         1812094         1050600   \n",
       "3     GAME ACTION        13018610         1552950          774012   \n",
       "4     GAME ACTION         9827328         2124154         1047741   \n",
       "...           ...             ...             ...             ...   \n",
       "1725    GAME WORD          101036            3607            3237   \n",
       "1726    GAME WORD           88950           14856            4297   \n",
       "1727    GAME WORD           64184           18332            9385   \n",
       "1728    GAME WORD           99987            4766            1469   \n",
       "1729    GAME WORD           50813           16480           11825   \n",
       "\n",
       "      2 star ratings  1 star ratings   paid  \n",
       "0            2122183        12495915  False  \n",
       "1             809821         4709492  False  \n",
       "2             713912         4308998  False  \n",
       "3             406184         2219794  False  \n",
       "4             380670         1084340  False  \n",
       "...              ...             ...    ...  \n",
       "1725            1229            3297  False  \n",
       "1726            1385            2103  False  \n",
       "1727            6688           12132  False  \n",
       "1728             953            2353  False  \n",
       "1729            6166           23631  False  \n",
       "\n",
       "[1730 rows x 15 columns]"
      ]
     },
     "execution_count": 1,
     "metadata": {},
     "output_type": "execute_result"
    }
   ],
   "source": [
    "import pandas as pd\n",
    "bikes = pd.read_csv('android-games[1].csv')\n",
    "bikes"
   ]
  },
  {
   "cell_type": "code",
   "execution_count": 2,
   "id": "c11bd174",
   "metadata": {},
   "outputs": [
    {
     "data": {
      "text/plain": [
       "Index(['rank', 'title', 'total ratings', 'installs', 'average rating',\n",
       "       'growth (30 days)', 'growth (60 days)', 'price', 'category',\n",
       "       '5 star ratings', '4 star ratings', '3 star ratings', '2 star ratings',\n",
       "       '1 star ratings', 'paid'],\n",
       "      dtype='object')"
      ]
     },
     "execution_count": 2,
     "metadata": {},
     "output_type": "execute_result"
    }
   ],
   "source": [
    "bikes.columns"
   ]
  },
  {
   "cell_type": "code",
   "execution_count": 3,
   "id": "919777b4",
   "metadata": {},
   "outputs": [
    {
     "data": {
      "text/plain": [
       "(1730, 15)"
      ]
     },
     "execution_count": 3,
     "metadata": {},
     "output_type": "execute_result"
    }
   ],
   "source": [
    "bikes.shape"
   ]
  },
  {
   "cell_type": "code",
   "execution_count": 4,
   "id": "ad3778f2",
   "metadata": {},
   "outputs": [
    {
     "name": "stdout",
     "output_type": "stream",
     "text": [
      "<class 'pandas.core.frame.DataFrame'>\n",
      "RangeIndex: 1730 entries, 0 to 1729\n",
      "Data columns (total 15 columns):\n",
      " #   Column            Non-Null Count  Dtype  \n",
      "---  ------            --------------  -----  \n",
      " 0   rank              1730 non-null   int64  \n",
      " 1   title             1730 non-null   object \n",
      " 2   total ratings     1730 non-null   int64  \n",
      " 3   installs          1730 non-null   object \n",
      " 4   average rating    1730 non-null   int64  \n",
      " 5   growth (30 days)  1730 non-null   float64\n",
      " 6   growth (60 days)  1730 non-null   float64\n",
      " 7   price             1730 non-null   float64\n",
      " 8   category          1730 non-null   object \n",
      " 9   5 star ratings    1730 non-null   int64  \n",
      " 10  4 star ratings    1730 non-null   int64  \n",
      " 11  3 star ratings    1730 non-null   int64  \n",
      " 12  2 star ratings    1730 non-null   int64  \n",
      " 13  1 star ratings    1730 non-null   int64  \n",
      " 14  paid              1730 non-null   bool   \n",
      "dtypes: bool(1), float64(3), int64(8), object(3)\n",
      "memory usage: 191.0+ KB\n"
     ]
    }
   ],
   "source": [
    "bikes.info()"
   ]
  },
  {
   "cell_type": "code",
   "execution_count": 5,
   "id": "d92c566e",
   "metadata": {},
   "outputs": [
    {
     "data": {
      "text/plain": [
       "0       86273129\n",
       "1       37276732\n",
       "2       26663595\n",
       "3       17971552\n",
       "4       14464235\n",
       "          ...   \n",
       "1725      112408\n",
       "1726      111595\n",
       "1727      110723\n",
       "1728      109530\n",
       "1729      108917\n",
       "Name: total ratings, Length: 1730, dtype: int64"
      ]
     },
     "execution_count": 5,
     "metadata": {},
     "output_type": "execute_result"
    }
   ],
   "source": [
    "bikes['total ratings']"
   ]
  },
  {
   "cell_type": "code",
   "execution_count": 6,
   "id": "c81519f1",
   "metadata": {},
   "outputs": [
    {
     "data": {
      "text/plain": [
       "array([86273129, 37276732, 26663595, ...,   110723,   109530,   108917],\n",
       "      dtype=int64)"
      ]
     },
     "execution_count": 6,
     "metadata": {},
     "output_type": "execute_result"
    }
   ],
   "source": [
    "bikes['total ratings'].unique()"
   ]
  },
  {
   "cell_type": "code",
   "execution_count": 7,
   "id": "bb47e000",
   "metadata": {},
   "outputs": [
    {
     "data": {
      "text/plain": [
       "array([4, 3, 2], dtype=int64)"
      ]
     },
     "execution_count": 7,
     "metadata": {},
     "output_type": "execute_result"
    }
   ],
   "source": [
    "bikes['average rating'].unique()"
   ]
  },
  {
   "cell_type": "code",
   "execution_count": 8,
   "id": "bedcfa9a",
   "metadata": {},
   "outputs": [
    {
     "data": {
      "text/plain": [
       "array(['GAME ACTION', 'GAME ADVENTURE', 'GAME ARCADE', 'GAME BOARD',\n",
       "       'GAME CARD', 'GAME CASINO', 'GAME CASUAL', 'GAME EDUCATIONAL',\n",
       "       'GAME MUSIC', 'GAME PUZZLE', 'GAME RACING', 'GAME ROLE PLAYING',\n",
       "       'GAME SIMULATION', 'GAME SPORTS', 'GAME STRATEGY', 'GAME TRIVIA',\n",
       "       'GAME WORD'], dtype=object)"
      ]
     },
     "execution_count": 8,
     "metadata": {},
     "output_type": "execute_result"
    }
   ],
   "source": [
    "bikes['category'].unique()"
   ]
  },
  {
   "cell_type": "code",
   "execution_count": 9,
   "id": "d01c5d8c",
   "metadata": {},
   "outputs": [
    {
     "data": {
      "text/html": [
       "<div>\n",
       "<style scoped>\n",
       "    .dataframe tbody tr th:only-of-type {\n",
       "        vertical-align: middle;\n",
       "    }\n",
       "\n",
       "    .dataframe tbody tr th {\n",
       "        vertical-align: top;\n",
       "    }\n",
       "\n",
       "    .dataframe thead th {\n",
       "        text-align: right;\n",
       "    }\n",
       "</style>\n",
       "<table border=\"1\" class=\"dataframe\">\n",
       "  <thead>\n",
       "    <tr style=\"text-align: right;\">\n",
       "      <th></th>\n",
       "      <th>5 star ratings</th>\n",
       "      <th>4 star ratings</th>\n",
       "    </tr>\n",
       "  </thead>\n",
       "  <tbody>\n",
       "    <tr>\n",
       "      <th>0</th>\n",
       "      <td>63546766</td>\n",
       "      <td>4949507</td>\n",
       "    </tr>\n",
       "    <tr>\n",
       "      <th>1</th>\n",
       "      <td>28339753</td>\n",
       "      <td>2164478</td>\n",
       "    </tr>\n",
       "    <tr>\n",
       "      <th>2</th>\n",
       "      <td>18777988</td>\n",
       "      <td>1812094</td>\n",
       "    </tr>\n",
       "    <tr>\n",
       "      <th>3</th>\n",
       "      <td>13018610</td>\n",
       "      <td>1552950</td>\n",
       "    </tr>\n",
       "    <tr>\n",
       "      <th>4</th>\n",
       "      <td>9827328</td>\n",
       "      <td>2124154</td>\n",
       "    </tr>\n",
       "    <tr>\n",
       "      <th>...</th>\n",
       "      <td>...</td>\n",
       "      <td>...</td>\n",
       "    </tr>\n",
       "    <tr>\n",
       "      <th>1725</th>\n",
       "      <td>101036</td>\n",
       "      <td>3607</td>\n",
       "    </tr>\n",
       "    <tr>\n",
       "      <th>1726</th>\n",
       "      <td>88950</td>\n",
       "      <td>14856</td>\n",
       "    </tr>\n",
       "    <tr>\n",
       "      <th>1727</th>\n",
       "      <td>64184</td>\n",
       "      <td>18332</td>\n",
       "    </tr>\n",
       "    <tr>\n",
       "      <th>1728</th>\n",
       "      <td>99987</td>\n",
       "      <td>4766</td>\n",
       "    </tr>\n",
       "    <tr>\n",
       "      <th>1729</th>\n",
       "      <td>50813</td>\n",
       "      <td>16480</td>\n",
       "    </tr>\n",
       "  </tbody>\n",
       "</table>\n",
       "<p>1730 rows × 2 columns</p>\n",
       "</div>"
      ],
      "text/plain": [
       "      5 star ratings  4 star ratings\n",
       "0           63546766         4949507\n",
       "1           28339753         2164478\n",
       "2           18777988         1812094\n",
       "3           13018610         1552950\n",
       "4            9827328         2124154\n",
       "...              ...             ...\n",
       "1725          101036            3607\n",
       "1726           88950           14856\n",
       "1727           64184           18332\n",
       "1728           99987            4766\n",
       "1729           50813           16480\n",
       "\n",
       "[1730 rows x 2 columns]"
      ]
     },
     "execution_count": 9,
     "metadata": {},
     "output_type": "execute_result"
    }
   ],
   "source": [
    "bikes[['5 star ratings', '4 star ratings']]"
   ]
  },
  {
   "cell_type": "code",
   "execution_count": 10,
   "id": "126f3cce",
   "metadata": {},
   "outputs": [
    {
     "data": {
      "text/plain": [
       "rank                                                             57\n",
       "title               Tile Craft - Triple Crush: Puzzle matching game\n",
       "total ratings                                                189798\n",
       "installs                                                      5.0 M\n",
       "average rating                                                    4\n",
       "growth (30 days)                                                0.8\n",
       "growth (60 days)                                                2.4\n",
       "price                                                           0.0\n",
       "category                                                 GAME BOARD\n",
       "5 star ratings                                               130404\n",
       "4 star ratings                                                35555\n",
       "3 star ratings                                                15055\n",
       "2 star ratings                                                 3097\n",
       "1 star ratings                                                 5684\n",
       "paid                                                          False\n",
       "Name: 356, dtype: object"
      ]
     },
     "execution_count": 10,
     "metadata": {},
     "output_type": "execute_result"
    }
   ],
   "source": [
    "bikes.iloc[356]"
   ]
  },
  {
   "cell_type": "code",
   "execution_count": 11,
   "id": "d4179346",
   "metadata": {},
   "outputs": [
    {
     "data": {
      "text/plain": [
       "4"
      ]
     },
     "execution_count": 11,
     "metadata": {},
     "output_type": "execute_result"
    }
   ],
   "source": [
    "bikes.iloc[356]['average rating']"
   ]
  },
  {
   "cell_type": "code",
   "execution_count": 12,
   "id": "0b12a5b7",
   "metadata": {},
   "outputs": [
    {
     "data": {
      "text/plain": [
       "0       False\n",
       "1       False\n",
       "2       False\n",
       "3       False\n",
       "4       False\n",
       "        ...  \n",
       "1725    False\n",
       "1726    False\n",
       "1727    False\n",
       "1728    False\n",
       "1729    False\n",
       "Name: paid, Length: 1730, dtype: bool"
      ]
     },
     "execution_count": 12,
     "metadata": {},
     "output_type": "execute_result"
    }
   ],
   "source": [
    "bikes['paid'] == 'false'"
   ]
  },
  {
   "cell_type": "markdown",
   "id": "befc9cf3",
   "metadata": {},
   "source": [
    "# найдем жанр с наибольшем количеством игр в топ 100 google play со средней оценкой 4"
   ]
  },
  {
   "cell_type": "code",
   "execution_count": 13,
   "id": "22cb7559",
   "metadata": {},
   "outputs": [
    {
     "data": {
      "text/plain": [
       "(100, 15)"
      ]
     },
     "execution_count": 13,
     "metadata": {},
     "output_type": "execute_result"
    }
   ],
   "source": [
    "bikes[bikes['category'] == 'GAME ACTION'].shape"
   ]
  },
  {
   "cell_type": "code",
   "execution_count": 14,
   "id": "d1e03a85",
   "metadata": {},
   "outputs": [
    {
     "data": {
      "text/plain": [
       "(89, 15)"
      ]
     },
     "execution_count": 14,
     "metadata": {},
     "output_type": "execute_result"
    }
   ],
   "source": [
    "bikes[(bikes['category'] == 'GAME ACTION') & \n",
    "      (bikes['average rating'] > 3)].shape"
   ]
  },
  {
   "cell_type": "code",
   "execution_count": 15,
   "id": "fc111422",
   "metadata": {},
   "outputs": [
    {
     "data": {
      "text/plain": [
       "(100, 15)"
      ]
     },
     "execution_count": 15,
     "metadata": {},
     "output_type": "execute_result"
    }
   ],
   "source": [
    "bikes[bikes['category'] == 'GAME ARCADE'].shape"
   ]
  },
  {
   "cell_type": "code",
   "execution_count": 20,
   "id": "fbecf190",
   "metadata": {},
   "outputs": [
    {
     "data": {
      "text/plain": [
       "(91, 15)"
      ]
     },
     "execution_count": 20,
     "metadata": {},
     "output_type": "execute_result"
    }
   ],
   "source": [
    "bikes[(bikes['category'] == 'GAME ARCADE') & \n",
    "      (bikes['average rating'] > 3)].shape"
   ]
  },
  {
   "cell_type": "code",
   "execution_count": 24,
   "id": "da94cf54",
   "metadata": {},
   "outputs": [
    {
     "data": {
      "text/plain": [
       "(100, 15)"
      ]
     },
     "execution_count": 24,
     "metadata": {},
     "output_type": "execute_result"
    }
   ],
   "source": [
    "bikes[bikes['category'] == 'GAME BOARD'].shape"
   ]
  },
  {
   "cell_type": "code",
   "execution_count": 25,
   "id": "27f6dbd4",
   "metadata": {},
   "outputs": [
    {
     "data": {
      "text/plain": [
       "(93, 15)"
      ]
     },
     "execution_count": 25,
     "metadata": {},
     "output_type": "execute_result"
    }
   ],
   "source": [
    "bikes[(bikes['category'] == 'GAME BOARD') & \n",
    "      (bikes['average rating'] > 3)].shape"
   ]
  },
  {
   "cell_type": "code",
   "execution_count": 26,
   "id": "ceadd684",
   "metadata": {},
   "outputs": [
    {
     "data": {
      "text/plain": [
       "(126, 15)"
      ]
     },
     "execution_count": 26,
     "metadata": {},
     "output_type": "execute_result"
    }
   ],
   "source": [
    "bikes[bikes['category'] == 'GAME CARD'].shape"
   ]
  },
  {
   "cell_type": "code",
   "execution_count": 27,
   "id": "549180df",
   "metadata": {},
   "outputs": [
    {
     "data": {
      "text/plain": [
       "(118, 15)"
      ]
     },
     "execution_count": 27,
     "metadata": {},
     "output_type": "execute_result"
    }
   ],
   "source": [
    "bikes[(bikes['category'] == 'GAME CARD') & \n",
    "      (bikes['average rating'] > 3)].shape"
   ]
  },
  {
   "cell_type": "code",
   "execution_count": 28,
   "id": "8a388936",
   "metadata": {},
   "outputs": [
    {
     "data": {
      "text/plain": [
       "(100, 15)"
      ]
     },
     "execution_count": 28,
     "metadata": {},
     "output_type": "execute_result"
    }
   ],
   "source": [
    "bikes[bikes['category'] == 'GAME CASINO'].shape"
   ]
  },
  {
   "cell_type": "code",
   "execution_count": 29,
   "id": "d0f29569",
   "metadata": {},
   "outputs": [
    {
     "data": {
      "text/plain": [
       "(95, 15)"
      ]
     },
     "execution_count": 29,
     "metadata": {},
     "output_type": "execute_result"
    }
   ],
   "source": [
    "bikes[(bikes['category'] == 'GAME CASINO') & \n",
    "      (bikes['average rating'] > 3)].shape"
   ]
  },
  {
   "cell_type": "code",
   "execution_count": 30,
   "id": "a5885e11",
   "metadata": {},
   "outputs": [
    {
     "data": {
      "text/plain": [
       "(100, 15)"
      ]
     },
     "execution_count": 30,
     "metadata": {},
     "output_type": "execute_result"
    }
   ],
   "source": [
    "bikes[bikes['category'] == 'GAME CASUAL'].shape"
   ]
  },
  {
   "cell_type": "code",
   "execution_count": 32,
   "id": "49d9a6a1",
   "metadata": {},
   "outputs": [
    {
     "data": {
      "text/plain": [
       "(95, 15)"
      ]
     },
     "execution_count": 32,
     "metadata": {},
     "output_type": "execute_result"
    }
   ],
   "source": [
    "bikes[(bikes['category'] == 'GAME CASUAL') & \n",
    "      (bikes['average rating'] > 3)].shape"
   ]
  },
  {
   "cell_type": "code",
   "execution_count": 33,
   "id": "20d92fc5",
   "metadata": {},
   "outputs": [
    {
     "data": {
      "text/plain": [
       "(100, 15)"
      ]
     },
     "execution_count": 33,
     "metadata": {},
     "output_type": "execute_result"
    }
   ],
   "source": [
    "bikes[bikes['category'] == 'GAME EDUCATIONAL'].shape"
   ]
  },
  {
   "cell_type": "code",
   "execution_count": 34,
   "id": "41e86269",
   "metadata": {},
   "outputs": [
    {
     "data": {
      "text/plain": [
       "(89, 15)"
      ]
     },
     "execution_count": 34,
     "metadata": {},
     "output_type": "execute_result"
    }
   ],
   "source": [
    "bikes[(bikes['category'] == 'GAME EDUCATIONAL') & \n",
    "      (bikes['average rating'] > 3)].shape"
   ]
  },
  {
   "cell_type": "code",
   "execution_count": 35,
   "id": "ff2f66d7",
   "metadata": {},
   "outputs": [
    {
     "data": {
      "text/plain": [
       "(100, 15)"
      ]
     },
     "execution_count": 35,
     "metadata": {},
     "output_type": "execute_result"
    }
   ],
   "source": [
    "bikes[bikes['category'] == 'GAME MUSIC'].shape"
   ]
  },
  {
   "cell_type": "code",
   "execution_count": 36,
   "id": "7c7a2968",
   "metadata": {},
   "outputs": [
    {
     "data": {
      "text/plain": [
       "(80, 15)"
      ]
     },
     "execution_count": 36,
     "metadata": {},
     "output_type": "execute_result"
    }
   ],
   "source": [
    "bikes[(bikes['category'] == 'GAME MUSIC') & \n",
    "      (bikes['average rating'] > 3)].shape"
   ]
  },
  {
   "cell_type": "code",
   "execution_count": 37,
   "id": "c990e656",
   "metadata": {},
   "outputs": [
    {
     "data": {
      "text/plain": [
       "(100, 15)"
      ]
     },
     "execution_count": 37,
     "metadata": {},
     "output_type": "execute_result"
    }
   ],
   "source": [
    "bikes[bikes['category'] == 'GAME PUZZLE'].shape"
   ]
  },
  {
   "cell_type": "code",
   "execution_count": 62,
   "id": "80fb635c",
   "metadata": {},
   "outputs": [
    {
     "data": {
      "text/plain": [
       "(94, 15)"
      ]
     },
     "execution_count": 62,
     "metadata": {},
     "output_type": "execute_result"
    }
   ],
   "source": [
    "bikes[(bikes['category'] == 'GAME PUZZLE') & \n",
    "      (bikes['average rating'] > 3)].shape"
   ]
  },
  {
   "cell_type": "code",
   "execution_count": 38,
   "id": "884ae104",
   "metadata": {},
   "outputs": [
    {
     "data": {
      "text/plain": [
       "(100, 15)"
      ]
     },
     "execution_count": 38,
     "metadata": {},
     "output_type": "execute_result"
    }
   ],
   "source": [
    "bikes[bikes['category'] == 'GAME RACING'].shape"
   ]
  },
  {
   "cell_type": "code",
   "execution_count": 39,
   "id": "5f03b9bd",
   "metadata": {},
   "outputs": [
    {
     "data": {
      "text/plain": [
       "(96, 15)"
      ]
     },
     "execution_count": 39,
     "metadata": {},
     "output_type": "execute_result"
    }
   ],
   "source": [
    "bikes[(bikes['category'] == 'GAME RACING') & \n",
    "      (bikes['average rating'] > 3)].shape"
   ]
  },
  {
   "cell_type": "code",
   "execution_count": 40,
   "id": "628e7f76",
   "metadata": {},
   "outputs": [
    {
     "data": {
      "text/plain": [
       "(100, 15)"
      ]
     },
     "execution_count": 40,
     "metadata": {},
     "output_type": "execute_result"
    }
   ],
   "source": [
    "bikes[bikes['category'] == 'GAME ROLE PLAYING'].shape"
   ]
  },
  {
   "cell_type": "code",
   "execution_count": 41,
   "id": "4b81be91",
   "metadata": {},
   "outputs": [
    {
     "data": {
      "text/plain": [
       "(89, 15)"
      ]
     },
     "execution_count": 41,
     "metadata": {},
     "output_type": "execute_result"
    }
   ],
   "source": [
    "bikes[(bikes['category'] == 'GAME ROLE PLAYING') & \n",
    "      (bikes['average rating'] > 3)].shape"
   ]
  },
  {
   "cell_type": "code",
   "execution_count": 42,
   "id": "0866940c",
   "metadata": {},
   "outputs": [
    {
     "data": {
      "text/plain": [
       "(100, 15)"
      ]
     },
     "execution_count": 42,
     "metadata": {},
     "output_type": "execute_result"
    }
   ],
   "source": [
    "bikes[bikes['category'] == 'GAME SIMULATION'].shape"
   ]
  },
  {
   "cell_type": "code",
   "execution_count": 43,
   "id": "1e74cc3d",
   "metadata": {},
   "outputs": [
    {
     "data": {
      "text/plain": [
       "(94, 15)"
      ]
     },
     "execution_count": 43,
     "metadata": {},
     "output_type": "execute_result"
    }
   ],
   "source": [
    "bikes[(bikes['category'] == 'GAME SIMULATION') & \n",
    "      (bikes['average rating'] > 3)].shape"
   ]
  },
  {
   "cell_type": "code",
   "execution_count": 44,
   "id": "629d97cf",
   "metadata": {},
   "outputs": [
    {
     "data": {
      "text/plain": [
       "(100, 15)"
      ]
     },
     "execution_count": 44,
     "metadata": {},
     "output_type": "execute_result"
    }
   ],
   "source": [
    "bikes[bikes['category'] == 'GAME SPORTS'].shape"
   ]
  },
  {
   "cell_type": "code",
   "execution_count": 45,
   "id": "a19d26c5",
   "metadata": {},
   "outputs": [
    {
     "data": {
      "text/plain": [
       "(93, 15)"
      ]
     },
     "execution_count": 45,
     "metadata": {},
     "output_type": "execute_result"
    }
   ],
   "source": [
    "bikes[(bikes['category'] == 'GAME SPORTS') & \n",
    "      (bikes['average rating'] > 3)].shape"
   ]
  },
  {
   "cell_type": "code",
   "execution_count": 46,
   "id": "5d511b57",
   "metadata": {},
   "outputs": [
    {
     "data": {
      "text/plain": [
       "(100, 15)"
      ]
     },
     "execution_count": 46,
     "metadata": {},
     "output_type": "execute_result"
    }
   ],
   "source": [
    "bikes[bikes['category'] == 'GAME STRATEGY'].shape"
   ]
  },
  {
   "cell_type": "code",
   "execution_count": 47,
   "id": "d7badfeb",
   "metadata": {},
   "outputs": [
    {
     "data": {
      "text/plain": [
       "(88, 15)"
      ]
     },
     "execution_count": 47,
     "metadata": {},
     "output_type": "execute_result"
    }
   ],
   "source": [
    "bikes[(bikes['category'] == 'GAME STRATEGY') & \n",
    "      (bikes['average rating'] > 3)].shape"
   ]
  },
  {
   "cell_type": "code",
   "execution_count": 48,
   "id": "e382bb2b",
   "metadata": {},
   "outputs": [
    {
     "data": {
      "text/plain": [
       "(100, 15)"
      ]
     },
     "execution_count": 48,
     "metadata": {},
     "output_type": "execute_result"
    }
   ],
   "source": [
    "bikes[bikes['category'] == 'GAME TRIVIA'].shape"
   ]
  },
  {
   "cell_type": "code",
   "execution_count": 49,
   "id": "6fb5657b",
   "metadata": {},
   "outputs": [
    {
     "data": {
      "text/plain": [
       "(85, 15)"
      ]
     },
     "execution_count": 49,
     "metadata": {},
     "output_type": "execute_result"
    }
   ],
   "source": [
    "bikes[(bikes['category'] == 'GAME TRIVIA') & \n",
    "      (bikes['average rating'] > 3)].shape"
   ]
  },
  {
   "cell_type": "code",
   "execution_count": 50,
   "id": "92dbc12f",
   "metadata": {},
   "outputs": [
    {
     "data": {
      "text/plain": [
       "(104, 15)"
      ]
     },
     "execution_count": 50,
     "metadata": {},
     "output_type": "execute_result"
    }
   ],
   "source": [
    "bikes[bikes['category'] == 'GAME WORD'].shape"
   ]
  },
  {
   "cell_type": "code",
   "execution_count": 51,
   "id": "b2bf68a2",
   "metadata": {},
   "outputs": [
    {
     "data": {
      "text/plain": [
       "(98, 15)"
      ]
     },
     "execution_count": 51,
     "metadata": {},
     "output_type": "execute_result"
    }
   ],
   "source": [
    "bikes[(bikes['category'] == 'GAME WORD') & \n",
    "      (bikes['average rating'] > 3)].shape"
   ]
  },
  {
   "cell_type": "markdown",
   "id": "ce7bf13d",
   "metadata": {},
   "source": [
    "**получается что в категории GAMES MUSIC в топе GOOGLE PLAY наименьшее количество высоких оценок среди конкурентов, а у категории GAME WORD наибольшее (но в этой категории представлено больше чем 100 игр - 104)**"
   ]
  },
  {
   "cell_type": "markdown",
   "id": "80170b1c",
   "metadata": {},
   "source": [
    "# За некоторые игры нужно платить (в момент установки) - найдем наболее дорогую игру среди всех жанров топа GOOGLE PLAY"
   ]
  },
  {
   "cell_type": "code",
   "execution_count": 52,
   "id": "fe2e418c",
   "metadata": {},
   "outputs": [
    {
     "data": {
      "text/plain": [
       "209     7.49\n",
       "477     2.99\n",
       "869     1.99\n",
       "260     1.99\n",
       "1588    1.99\n",
       "        ... \n",
       "575     0.00\n",
       "574     0.00\n",
       "573     0.00\n",
       "572     0.00\n",
       "1729    0.00\n",
       "Name: price, Length: 1730, dtype: float64"
      ]
     },
     "execution_count": 52,
     "metadata": {},
     "output_type": "execute_result"
    }
   ],
   "source": [
    "bikes['price'].sort_values(ascending=False)"
   ]
  },
  {
   "cell_type": "markdown",
   "id": "3d7fa262",
   "metadata": {},
   "source": [
    "**наиболее дорогая игра имеет стоимость 7.49 долларов, относится она к жанру GAME ARCADE**"
   ]
  },
  {
   "cell_type": "markdown",
   "id": "9f437da3",
   "metadata": {},
   "source": [
    "# А есть ли хоть одна платная игра с наиболее низкой средней оценкой - 2?"
   ]
  },
  {
   "cell_type": "code",
   "execution_count": 83,
   "id": "dd92f356",
   "metadata": {},
   "outputs": [
    {
     "data": {
      "text/html": [
       "<div>\n",
       "<style scoped>\n",
       "    .dataframe tbody tr th:only-of-type {\n",
       "        vertical-align: middle;\n",
       "    }\n",
       "\n",
       "    .dataframe tbody tr th {\n",
       "        vertical-align: top;\n",
       "    }\n",
       "\n",
       "    .dataframe thead th {\n",
       "        text-align: right;\n",
       "    }\n",
       "</style>\n",
       "<table border=\"1\" class=\"dataframe\">\n",
       "  <thead>\n",
       "    <tr style=\"text-align: right;\">\n",
       "      <th></th>\n",
       "      <th>rank</th>\n",
       "      <th>title</th>\n",
       "      <th>total ratings</th>\n",
       "      <th>installs</th>\n",
       "      <th>average rating</th>\n",
       "      <th>growth (30 days)</th>\n",
       "      <th>growth (60 days)</th>\n",
       "      <th>price</th>\n",
       "      <th>category</th>\n",
       "      <th>5 star ratings</th>\n",
       "      <th>4 star ratings</th>\n",
       "      <th>3 star ratings</th>\n",
       "      <th>2 star ratings</th>\n",
       "      <th>1 star ratings</th>\n",
       "      <th>paid</th>\n",
       "    </tr>\n",
       "  </thead>\n",
       "  <tbody>\n",
       "    <tr>\n",
       "      <th>1425</th>\n",
       "      <td>100</td>\n",
       "      <td>Futsal Football 2</td>\n",
       "      <td>243214</td>\n",
       "      <td>10.0 M</td>\n",
       "      <td>2</td>\n",
       "      <td>0.0</td>\n",
       "      <td>0.0</td>\n",
       "      <td>0.0</td>\n",
       "      <td>GAME SPORTS</td>\n",
       "      <td>84461</td>\n",
       "      <td>12107</td>\n",
       "      <td>13275</td>\n",
       "      <td>8344</td>\n",
       "      <td>125025</td>\n",
       "      <td>False</td>\n",
       "    </tr>\n",
       "    <tr>\n",
       "      <th>6</th>\n",
       "      <td>7</td>\n",
       "      <td>Among Us</td>\n",
       "      <td>11936964</td>\n",
       "      <td>100.0 M</td>\n",
       "      <td>3</td>\n",
       "      <td>1.8</td>\n",
       "      <td>5.6</td>\n",
       "      <td>0.0</td>\n",
       "      <td>GAME ACTION</td>\n",
       "      <td>5954262</td>\n",
       "      <td>1041297</td>\n",
       "      <td>853099</td>\n",
       "      <td>719378</td>\n",
       "      <td>3368926</td>\n",
       "      <td>False</td>\n",
       "    </tr>\n",
       "    <tr>\n",
       "      <th>17</th>\n",
       "      <td>18</td>\n",
       "      <td>War Robots. 6v6 Tactical Multiplayer Battles</td>\n",
       "      <td>4221389</td>\n",
       "      <td>50.0 M</td>\n",
       "      <td>3</td>\n",
       "      <td>692.7</td>\n",
       "      <td>0.6</td>\n",
       "      <td>0.0</td>\n",
       "      <td>GAME ACTION</td>\n",
       "      <td>2634036</td>\n",
       "      <td>450688</td>\n",
       "      <td>267931</td>\n",
       "      <td>164087</td>\n",
       "      <td>704645</td>\n",
       "      <td>False</td>\n",
       "    </tr>\n",
       "    <tr>\n",
       "      <th>20</th>\n",
       "      <td>21</td>\n",
       "      <td>Agar.io</td>\n",
       "      <td>4112075</td>\n",
       "      <td>100.0 M</td>\n",
       "      <td>3</td>\n",
       "      <td>0.2</td>\n",
       "      <td>0.3</td>\n",
       "      <td>0.0</td>\n",
       "      <td>GAME ACTION</td>\n",
       "      <td>2493810</td>\n",
       "      <td>428315</td>\n",
       "      <td>289428</td>\n",
       "      <td>156522</td>\n",
       "      <td>743997</td>\n",
       "      <td>False</td>\n",
       "    </tr>\n",
       "    <tr>\n",
       "      <th>38</th>\n",
       "      <td>39</td>\n",
       "      <td>FRONTLINE COMMANDO: D-DAY</td>\n",
       "      <td>1985016</td>\n",
       "      <td>10.0 M</td>\n",
       "      <td>3</td>\n",
       "      <td>0.3</td>\n",
       "      <td>0.6</td>\n",
       "      <td>0.0</td>\n",
       "      <td>GAME ACTION</td>\n",
       "      <td>1293275</td>\n",
       "      <td>125940</td>\n",
       "      <td>82481</td>\n",
       "      <td>56490</td>\n",
       "      <td>426828</td>\n",
       "      <td>False</td>\n",
       "    </tr>\n",
       "    <tr>\n",
       "      <th>...</th>\n",
       "      <td>...</td>\n",
       "      <td>...</td>\n",
       "      <td>...</td>\n",
       "      <td>...</td>\n",
       "      <td>...</td>\n",
       "      <td>...</td>\n",
       "      <td>...</td>\n",
       "      <td>...</td>\n",
       "      <td>...</td>\n",
       "      <td>...</td>\n",
       "      <td>...</td>\n",
       "      <td>...</td>\n",
       "      <td>...</td>\n",
       "      <td>...</td>\n",
       "      <td>...</td>\n",
       "    </tr>\n",
       "    <tr>\n",
       "      <th>1724</th>\n",
       "      <td>95</td>\n",
       "      <td>4 Fotos 1 Palavra</td>\n",
       "      <td>115437</td>\n",
       "      <td>5.0 M</td>\n",
       "      <td>4</td>\n",
       "      <td>0.2</td>\n",
       "      <td>0.5</td>\n",
       "      <td>0.0</td>\n",
       "      <td>GAME WORD</td>\n",
       "      <td>85169</td>\n",
       "      <td>16622</td>\n",
       "      <td>6802</td>\n",
       "      <td>1848</td>\n",
       "      <td>4994</td>\n",
       "      <td>False</td>\n",
       "    </tr>\n",
       "    <tr>\n",
       "      <th>1725</th>\n",
       "      <td>96</td>\n",
       "      <td>زوايا - لعبة ستحرك زوايا عقلك</td>\n",
       "      <td>112408</td>\n",
       "      <td>1.0 M</td>\n",
       "      <td>4</td>\n",
       "      <td>0.9</td>\n",
       "      <td>1.8</td>\n",
       "      <td>0.0</td>\n",
       "      <td>GAME WORD</td>\n",
       "      <td>101036</td>\n",
       "      <td>3607</td>\n",
       "      <td>3237</td>\n",
       "      <td>1229</td>\n",
       "      <td>3297</td>\n",
       "      <td>False</td>\n",
       "    </tr>\n",
       "    <tr>\n",
       "      <th>1726</th>\n",
       "      <td>97</td>\n",
       "      <td>Bible Word Puzzle - Free Bible Word Games</td>\n",
       "      <td>111595</td>\n",
       "      <td>1.0 M</td>\n",
       "      <td>4</td>\n",
       "      <td>0.9</td>\n",
       "      <td>2.3</td>\n",
       "      <td>0.0</td>\n",
       "      <td>GAME WORD</td>\n",
       "      <td>88950</td>\n",
       "      <td>14856</td>\n",
       "      <td>4297</td>\n",
       "      <td>1385</td>\n",
       "      <td>2103</td>\n",
       "      <td>False</td>\n",
       "    </tr>\n",
       "    <tr>\n",
       "      <th>1727</th>\n",
       "      <td>98</td>\n",
       "      <td>Scrabble® GO - New Word Game</td>\n",
       "      <td>110723</td>\n",
       "      <td>10.0 M</td>\n",
       "      <td>4</td>\n",
       "      <td>0.9</td>\n",
       "      <td>1.9</td>\n",
       "      <td>0.0</td>\n",
       "      <td>GAME WORD</td>\n",
       "      <td>64184</td>\n",
       "      <td>18332</td>\n",
       "      <td>9385</td>\n",
       "      <td>6688</td>\n",
       "      <td>12132</td>\n",
       "      <td>False</td>\n",
       "    </tr>\n",
       "    <tr>\n",
       "      <th>1728</th>\n",
       "      <td>99</td>\n",
       "      <td>Word Nut: Word Puzzle Games &amp; Crosswords</td>\n",
       "      <td>109530</td>\n",
       "      <td>5.0 M</td>\n",
       "      <td>4</td>\n",
       "      <td>1.9</td>\n",
       "      <td>4.1</td>\n",
       "      <td>0.0</td>\n",
       "      <td>GAME WORD</td>\n",
       "      <td>99987</td>\n",
       "      <td>4766</td>\n",
       "      <td>1469</td>\n",
       "      <td>953</td>\n",
       "      <td>2353</td>\n",
       "      <td>False</td>\n",
       "    </tr>\n",
       "  </tbody>\n",
       "</table>\n",
       "<p>1730 rows × 15 columns</p>\n",
       "</div>"
      ],
      "text/plain": [
       "      rank                                         title  total ratings  \\\n",
       "1425   100                             Futsal Football 2         243214   \n",
       "6        7                                      Among Us       11936964   \n",
       "17      18  War Robots. 6v6 Tactical Multiplayer Battles        4221389   \n",
       "20      21                                       Agar.io        4112075   \n",
       "38      39                     FRONTLINE COMMANDO: D-DAY        1985016   \n",
       "...    ...                                           ...            ...   \n",
       "1724    95                             4 Fotos 1 Palavra         115437   \n",
       "1725    96                 زوايا - لعبة ستحرك زوايا عقلك         112408   \n",
       "1726    97     Bible Word Puzzle - Free Bible Word Games         111595   \n",
       "1727    98                  Scrabble® GO - New Word Game         110723   \n",
       "1728    99      Word Nut: Word Puzzle Games & Crosswords         109530   \n",
       "\n",
       "     installs  average rating  growth (30 days)  growth (60 days)  price  \\\n",
       "1425   10.0 M               2               0.0               0.0    0.0   \n",
       "6     100.0 M               3               1.8               5.6    0.0   \n",
       "17     50.0 M               3             692.7               0.6    0.0   \n",
       "20    100.0 M               3               0.2               0.3    0.0   \n",
       "38     10.0 M               3               0.3               0.6    0.0   \n",
       "...       ...             ...               ...               ...    ...   \n",
       "1724    5.0 M               4               0.2               0.5    0.0   \n",
       "1725    1.0 M               4               0.9               1.8    0.0   \n",
       "1726    1.0 M               4               0.9               2.3    0.0   \n",
       "1727   10.0 M               4               0.9               1.9    0.0   \n",
       "1728    5.0 M               4               1.9               4.1    0.0   \n",
       "\n",
       "         category  5 star ratings  4 star ratings  3 star ratings  \\\n",
       "1425  GAME SPORTS           84461           12107           13275   \n",
       "6     GAME ACTION         5954262         1041297          853099   \n",
       "17    GAME ACTION         2634036          450688          267931   \n",
       "20    GAME ACTION         2493810          428315          289428   \n",
       "38    GAME ACTION         1293275          125940           82481   \n",
       "...           ...             ...             ...             ...   \n",
       "1724    GAME WORD           85169           16622            6802   \n",
       "1725    GAME WORD          101036            3607            3237   \n",
       "1726    GAME WORD           88950           14856            4297   \n",
       "1727    GAME WORD           64184           18332            9385   \n",
       "1728    GAME WORD           99987            4766            1469   \n",
       "\n",
       "      2 star ratings  1 star ratings   paid  \n",
       "1425            8344          125025  False  \n",
       "6             719378         3368926  False  \n",
       "17            164087          704645  False  \n",
       "20            156522          743997  False  \n",
       "38             56490          426828  False  \n",
       "...              ...             ...    ...  \n",
       "1724            1848            4994  False  \n",
       "1725            1229            3297  False  \n",
       "1726            1385            2103  False  \n",
       "1727            6688           12132  False  \n",
       "1728             953            2353  False  \n",
       "\n",
       "[1730 rows x 15 columns]"
      ]
     },
     "execution_count": 83,
     "metadata": {},
     "output_type": "execute_result"
    }
   ],
   "source": [
    "bikes.sort_values(by=['average rating', 'price'], ascending=[True, False])"
   ]
  },
  {
   "cell_type": "markdown",
   "id": "6bb1f5b5",
   "metadata": {},
   "source": [
    "**нет, платных игр таких нет, но 100-я игра в топе GOOGLE PLAY жанра GAME SPORT - единственный обладатель средней оценки 2**"
   ]
  },
  {
   "cell_type": "markdown",
   "id": "c896e0f5",
   "metadata": {},
   "source": [
    "# Создадим новую перемнную и посмотрим сколько заработали платные игры с проголосовавших игроков (они скачали продукт и играли)"
   ]
  },
  {
   "cell_type": "code",
   "execution_count": 89,
   "id": "c568bc13",
   "metadata": {},
   "outputs": [],
   "source": [
    "bikes['payment of voters'] = bikes['total ratings'] * bikes['price']"
   ]
  },
  {
   "cell_type": "code",
   "execution_count": 90,
   "id": "20af667f",
   "metadata": {},
   "outputs": [
    {
     "data": {
      "text/html": [
       "<div>\n",
       "<style scoped>\n",
       "    .dataframe tbody tr th:only-of-type {\n",
       "        vertical-align: middle;\n",
       "    }\n",
       "\n",
       "    .dataframe tbody tr th {\n",
       "        vertical-align: top;\n",
       "    }\n",
       "\n",
       "    .dataframe thead th {\n",
       "        text-align: right;\n",
       "    }\n",
       "</style>\n",
       "<table border=\"1\" class=\"dataframe\">\n",
       "  <thead>\n",
       "    <tr style=\"text-align: right;\">\n",
       "      <th></th>\n",
       "      <th>rank</th>\n",
       "      <th>title</th>\n",
       "      <th>total ratings</th>\n",
       "      <th>installs</th>\n",
       "      <th>average rating</th>\n",
       "      <th>growth (30 days)</th>\n",
       "      <th>growth (60 days)</th>\n",
       "      <th>price</th>\n",
       "      <th>category</th>\n",
       "      <th>5 star ratings</th>\n",
       "      <th>4 star ratings</th>\n",
       "      <th>3 star ratings</th>\n",
       "      <th>2 star ratings</th>\n",
       "      <th>1 star ratings</th>\n",
       "      <th>paid</th>\n",
       "      <th>Rental Count</th>\n",
       "      <th>payment of voters</th>\n",
       "    </tr>\n",
       "  </thead>\n",
       "  <tbody>\n",
       "    <tr>\n",
       "      <th>0</th>\n",
       "      <td>1</td>\n",
       "      <td>Garena Free Fire- World Series</td>\n",
       "      <td>86273129</td>\n",
       "      <td>500.0 M</td>\n",
       "      <td>4</td>\n",
       "      <td>2.1</td>\n",
       "      <td>6.9</td>\n",
       "      <td>0.0</td>\n",
       "      <td>GAME ACTION</td>\n",
       "      <td>63546766</td>\n",
       "      <td>4949507</td>\n",
       "      <td>3158756</td>\n",
       "      <td>2122183</td>\n",
       "      <td>12495915</td>\n",
       "      <td>False</td>\n",
       "      <td>0.0</td>\n",
       "      <td>0.0</td>\n",
       "    </tr>\n",
       "    <tr>\n",
       "      <th>1</th>\n",
       "      <td>2</td>\n",
       "      <td>PUBG MOBILE - Traverse</td>\n",
       "      <td>37276732</td>\n",
       "      <td>500.0 M</td>\n",
       "      <td>4</td>\n",
       "      <td>1.8</td>\n",
       "      <td>3.6</td>\n",
       "      <td>0.0</td>\n",
       "      <td>GAME ACTION</td>\n",
       "      <td>28339753</td>\n",
       "      <td>2164478</td>\n",
       "      <td>1253185</td>\n",
       "      <td>809821</td>\n",
       "      <td>4709492</td>\n",
       "      <td>False</td>\n",
       "      <td>0.0</td>\n",
       "      <td>0.0</td>\n",
       "    </tr>\n",
       "    <tr>\n",
       "      <th>2</th>\n",
       "      <td>3</td>\n",
       "      <td>Mobile Legends: Bang Bang</td>\n",
       "      <td>26663595</td>\n",
       "      <td>100.0 M</td>\n",
       "      <td>4</td>\n",
       "      <td>1.5</td>\n",
       "      <td>3.2</td>\n",
       "      <td>0.0</td>\n",
       "      <td>GAME ACTION</td>\n",
       "      <td>18777988</td>\n",
       "      <td>1812094</td>\n",
       "      <td>1050600</td>\n",
       "      <td>713912</td>\n",
       "      <td>4308998</td>\n",
       "      <td>False</td>\n",
       "      <td>0.0</td>\n",
       "      <td>0.0</td>\n",
       "    </tr>\n",
       "    <tr>\n",
       "      <th>3</th>\n",
       "      <td>4</td>\n",
       "      <td>Brawl Stars</td>\n",
       "      <td>17971552</td>\n",
       "      <td>100.0 M</td>\n",
       "      <td>4</td>\n",
       "      <td>1.4</td>\n",
       "      <td>4.4</td>\n",
       "      <td>0.0</td>\n",
       "      <td>GAME ACTION</td>\n",
       "      <td>13018610</td>\n",
       "      <td>1552950</td>\n",
       "      <td>774012</td>\n",
       "      <td>406184</td>\n",
       "      <td>2219794</td>\n",
       "      <td>False</td>\n",
       "      <td>0.0</td>\n",
       "      <td>0.0</td>\n",
       "    </tr>\n",
       "    <tr>\n",
       "      <th>4</th>\n",
       "      <td>5</td>\n",
       "      <td>Sniper 3D: Fun Free Online FPS Shooting Game</td>\n",
       "      <td>14464235</td>\n",
       "      <td>500.0 M</td>\n",
       "      <td>4</td>\n",
       "      <td>0.8</td>\n",
       "      <td>1.5</td>\n",
       "      <td>0.0</td>\n",
       "      <td>GAME ACTION</td>\n",
       "      <td>9827328</td>\n",
       "      <td>2124154</td>\n",
       "      <td>1047741</td>\n",
       "      <td>380670</td>\n",
       "      <td>1084340</td>\n",
       "      <td>False</td>\n",
       "      <td>0.0</td>\n",
       "      <td>0.0</td>\n",
       "    </tr>\n",
       "  </tbody>\n",
       "</table>\n",
       "</div>"
      ],
      "text/plain": [
       "   rank                                         title  total ratings installs  \\\n",
       "0     1                Garena Free Fire- World Series       86273129  500.0 M   \n",
       "1     2                        PUBG MOBILE - Traverse       37276732  500.0 M   \n",
       "2     3                     Mobile Legends: Bang Bang       26663595  100.0 M   \n",
       "3     4                                   Brawl Stars       17971552  100.0 M   \n",
       "4     5  Sniper 3D: Fun Free Online FPS Shooting Game       14464235  500.0 M   \n",
       "\n",
       "   average rating  growth (30 days)  growth (60 days)  price     category  \\\n",
       "0               4               2.1               6.9    0.0  GAME ACTION   \n",
       "1               4               1.8               3.6    0.0  GAME ACTION   \n",
       "2               4               1.5               3.2    0.0  GAME ACTION   \n",
       "3               4               1.4               4.4    0.0  GAME ACTION   \n",
       "4               4               0.8               1.5    0.0  GAME ACTION   \n",
       "\n",
       "   5 star ratings  4 star ratings  3 star ratings  2 star ratings  \\\n",
       "0        63546766         4949507         3158756         2122183   \n",
       "1        28339753         2164478         1253185          809821   \n",
       "2        18777988         1812094         1050600          713912   \n",
       "3        13018610         1552950          774012          406184   \n",
       "4         9827328         2124154         1047741          380670   \n",
       "\n",
       "   1 star ratings   paid  Rental Count  payment of voters  \n",
       "0        12495915  False           0.0                0.0  \n",
       "1         4709492  False           0.0                0.0  \n",
       "2         4308998  False           0.0                0.0  \n",
       "3         2219794  False           0.0                0.0  \n",
       "4         1084340  False           0.0                0.0  "
      ]
     },
     "execution_count": 90,
     "metadata": {},
     "output_type": "execute_result"
    }
   ],
   "source": [
    "bikes.head()"
   ]
  },
  {
   "cell_type": "code",
   "execution_count": 91,
   "id": "7af33fcd",
   "metadata": {},
   "outputs": [
    {
     "data": {
      "text/plain": [
       "209     30712385.48\n",
       "260      1548102.59\n",
       "477       438686.82\n",
       "1217      308014.74\n",
       "869       222241.21\n",
       "           ...     \n",
       "575            0.00\n",
       "574            0.00\n",
       "573            0.00\n",
       "572            0.00\n",
       "1729           0.00\n",
       "Name: payment of voters, Length: 1730, dtype: float64"
      ]
     },
     "execution_count": 91,
     "metadata": {},
     "output_type": "execute_result"
    }
   ],
   "source": [
    "bikes['payment of voters'].sort_values(ascending=False)"
   ]
  },
  {
   "cell_type": "markdown",
   "id": "feaf0be3",
   "metadata": {},
   "source": [
    "**мобильные игры неплохо зарабатывают, только с платной покупки игры два продукта GOOGLE PLAY получили более 15 миллионов долларов (вероятнее бесплатные заработали даже больше - их контент хорошо монетизируется)**"
   ]
  },
  {
   "cell_type": "code",
   "execution_count": 93,
   "id": "f15d71c2",
   "metadata": {},
   "outputs": [
    {
     "name": "stdout",
     "output_type": "stream",
     "text": [
      "<class 'pandas.core.frame.DataFrame'>\n",
      "RangeIndex: 1730 entries, 0 to 1729\n",
      "Data columns (total 17 columns):\n",
      " #   Column             Non-Null Count  Dtype  \n",
      "---  ------             --------------  -----  \n",
      " 0   rank               1730 non-null   int64  \n",
      " 1   title              1730 non-null   object \n",
      " 2   total ratings      1730 non-null   int64  \n",
      " 3   installs           1730 non-null   object \n",
      " 4   average rating     1730 non-null   int64  \n",
      " 5   growth (30 days)   1730 non-null   float64\n",
      " 6   growth (60 days)   1730 non-null   float64\n",
      " 7   price              1730 non-null   float64\n",
      " 8   category           1730 non-null   object \n",
      " 9   5 star ratings     1730 non-null   int64  \n",
      " 10  4 star ratings     1730 non-null   int64  \n",
      " 11  3 star ratings     1730 non-null   int64  \n",
      " 12  2 star ratings     1730 non-null   int64  \n",
      " 13  1 star ratings     1730 non-null   int64  \n",
      " 14  paid               1730 non-null   bool   \n",
      " 15  Rental Count       1730 non-null   float64\n",
      " 16  payment of voters  1730 non-null   float64\n",
      "dtypes: bool(1), float64(5), int64(8), object(3)\n",
      "memory usage: 218.1+ KB\n"
     ]
    }
   ],
   "source": [
    "bikes.info()"
   ]
  },
  {
   "cell_type": "markdown",
   "id": "cc57b0cb",
   "metadata": {},
   "source": [
    "**Возьмем проекты с наибольшей выборкой голосов (от 10 млн)**"
   ]
  },
  {
   "cell_type": "code",
   "execution_count": 127,
   "id": "9f715f7c",
   "metadata": {},
   "outputs": [
    {
     "data": {
      "text/plain": [
       "23"
      ]
     },
     "execution_count": 127,
     "metadata": {},
     "output_type": "execute_result"
    }
   ],
   "source": [
    "bikes['total ratings'].apply(lambda x: 1 if x in range(10000000,1000000000) else 0).sum()"
   ]
  },
  {
   "cell_type": "code",
   "execution_count": 128,
   "id": "3c31e5d5",
   "metadata": {},
   "outputs": [],
   "source": [
    "bikes['large base of votes'] = bikes['total ratings'].apply(lambda x: 1 if x in range(10000000,1000000000) else 0)"
   ]
  },
  {
   "cell_type": "code",
   "execution_count": 138,
   "id": "b99f9fab",
   "metadata": {},
   "outputs": [
    {
     "data": {
      "text/html": [
       "<div>\n",
       "<style scoped>\n",
       "    .dataframe tbody tr th:only-of-type {\n",
       "        vertical-align: middle;\n",
       "    }\n",
       "\n",
       "    .dataframe tbody tr th {\n",
       "        vertical-align: top;\n",
       "    }\n",
       "\n",
       "    .dataframe thead th {\n",
       "        text-align: right;\n",
       "    }\n",
       "</style>\n",
       "<table border=\"1\" class=\"dataframe\">\n",
       "  <thead>\n",
       "    <tr style=\"text-align: right;\">\n",
       "      <th></th>\n",
       "      <th>rank</th>\n",
       "      <th>title</th>\n",
       "      <th>total ratings</th>\n",
       "      <th>installs</th>\n",
       "      <th>average rating</th>\n",
       "      <th>growth (30 days)</th>\n",
       "      <th>growth (60 days)</th>\n",
       "      <th>price</th>\n",
       "      <th>category</th>\n",
       "      <th>5 star ratings</th>\n",
       "      <th>4 star ratings</th>\n",
       "      <th>3 star ratings</th>\n",
       "      <th>2 star ratings</th>\n",
       "      <th>1 star ratings</th>\n",
       "      <th>paid</th>\n",
       "      <th>Rental Count</th>\n",
       "      <th>payment of voters</th>\n",
       "      <th>normal growth (30 days)</th>\n",
       "      <th>large base of votes</th>\n",
       "    </tr>\n",
       "  </thead>\n",
       "  <tbody>\n",
       "    <tr>\n",
       "      <th>0</th>\n",
       "      <td>1</td>\n",
       "      <td>Garena Free Fire- World Series</td>\n",
       "      <td>86273129</td>\n",
       "      <td>500.0 M</td>\n",
       "      <td>4</td>\n",
       "      <td>2.1</td>\n",
       "      <td>6.9</td>\n",
       "      <td>0.0</td>\n",
       "      <td>GAME ACTION</td>\n",
       "      <td>63546766</td>\n",
       "      <td>4949507</td>\n",
       "      <td>3158756</td>\n",
       "      <td>2122183</td>\n",
       "      <td>12495915</td>\n",
       "      <td>False</td>\n",
       "      <td>0.0</td>\n",
       "      <td>0.0</td>\n",
       "      <td>0</td>\n",
       "      <td>1</td>\n",
       "    </tr>\n",
       "    <tr>\n",
       "      <th>1</th>\n",
       "      <td>2</td>\n",
       "      <td>PUBG MOBILE - Traverse</td>\n",
       "      <td>37276732</td>\n",
       "      <td>500.0 M</td>\n",
       "      <td>4</td>\n",
       "      <td>1.8</td>\n",
       "      <td>3.6</td>\n",
       "      <td>0.0</td>\n",
       "      <td>GAME ACTION</td>\n",
       "      <td>28339753</td>\n",
       "      <td>2164478</td>\n",
       "      <td>1253185</td>\n",
       "      <td>809821</td>\n",
       "      <td>4709492</td>\n",
       "      <td>False</td>\n",
       "      <td>0.0</td>\n",
       "      <td>0.0</td>\n",
       "      <td>0</td>\n",
       "      <td>1</td>\n",
       "    </tr>\n",
       "    <tr>\n",
       "      <th>2</th>\n",
       "      <td>3</td>\n",
       "      <td>Mobile Legends: Bang Bang</td>\n",
       "      <td>26663595</td>\n",
       "      <td>100.0 M</td>\n",
       "      <td>4</td>\n",
       "      <td>1.5</td>\n",
       "      <td>3.2</td>\n",
       "      <td>0.0</td>\n",
       "      <td>GAME ACTION</td>\n",
       "      <td>18777988</td>\n",
       "      <td>1812094</td>\n",
       "      <td>1050600</td>\n",
       "      <td>713912</td>\n",
       "      <td>4308998</td>\n",
       "      <td>False</td>\n",
       "      <td>0.0</td>\n",
       "      <td>0.0</td>\n",
       "      <td>0</td>\n",
       "      <td>1</td>\n",
       "    </tr>\n",
       "    <tr>\n",
       "      <th>3</th>\n",
       "      <td>4</td>\n",
       "      <td>Brawl Stars</td>\n",
       "      <td>17971552</td>\n",
       "      <td>100.0 M</td>\n",
       "      <td>4</td>\n",
       "      <td>1.4</td>\n",
       "      <td>4.4</td>\n",
       "      <td>0.0</td>\n",
       "      <td>GAME ACTION</td>\n",
       "      <td>13018610</td>\n",
       "      <td>1552950</td>\n",
       "      <td>774012</td>\n",
       "      <td>406184</td>\n",
       "      <td>2219794</td>\n",
       "      <td>False</td>\n",
       "      <td>0.0</td>\n",
       "      <td>0.0</td>\n",
       "      <td>0</td>\n",
       "      <td>1</td>\n",
       "    </tr>\n",
       "    <tr>\n",
       "      <th>4</th>\n",
       "      <td>5</td>\n",
       "      <td>Sniper 3D: Fun Free Online FPS Shooting Game</td>\n",
       "      <td>14464235</td>\n",
       "      <td>500.0 M</td>\n",
       "      <td>4</td>\n",
       "      <td>0.8</td>\n",
       "      <td>1.5</td>\n",
       "      <td>0.0</td>\n",
       "      <td>GAME ACTION</td>\n",
       "      <td>9827328</td>\n",
       "      <td>2124154</td>\n",
       "      <td>1047741</td>\n",
       "      <td>380670</td>\n",
       "      <td>1084340</td>\n",
       "      <td>False</td>\n",
       "      <td>0.0</td>\n",
       "      <td>0.0</td>\n",
       "      <td>0</td>\n",
       "      <td>1</td>\n",
       "    </tr>\n",
       "  </tbody>\n",
       "</table>\n",
       "</div>"
      ],
      "text/plain": [
       "   rank                                         title  total ratings installs  \\\n",
       "0     1                Garena Free Fire- World Series       86273129  500.0 M   \n",
       "1     2                        PUBG MOBILE - Traverse       37276732  500.0 M   \n",
       "2     3                     Mobile Legends: Bang Bang       26663595  100.0 M   \n",
       "3     4                                   Brawl Stars       17971552  100.0 M   \n",
       "4     5  Sniper 3D: Fun Free Online FPS Shooting Game       14464235  500.0 M   \n",
       "\n",
       "   average rating  growth (30 days)  growth (60 days)  price     category  \\\n",
       "0               4               2.1               6.9    0.0  GAME ACTION   \n",
       "1               4               1.8               3.6    0.0  GAME ACTION   \n",
       "2               4               1.5               3.2    0.0  GAME ACTION   \n",
       "3               4               1.4               4.4    0.0  GAME ACTION   \n",
       "4               4               0.8               1.5    0.0  GAME ACTION   \n",
       "\n",
       "   5 star ratings  4 star ratings  3 star ratings  2 star ratings  \\\n",
       "0        63546766         4949507         3158756         2122183   \n",
       "1        28339753         2164478         1253185          809821   \n",
       "2        18777988         1812094         1050600          713912   \n",
       "3        13018610         1552950          774012          406184   \n",
       "4         9827328         2124154         1047741          380670   \n",
       "\n",
       "   1 star ratings   paid  Rental Count  payment of voters  \\\n",
       "0        12495915  False           0.0                0.0   \n",
       "1         4709492  False           0.0                0.0   \n",
       "2         4308998  False           0.0                0.0   \n",
       "3         2219794  False           0.0                0.0   \n",
       "4         1084340  False           0.0                0.0   \n",
       "\n",
       "   normal growth (30 days)  large base of votes  \n",
       "0                        0                    1  \n",
       "1                        0                    1  \n",
       "2                        0                    1  \n",
       "3                        0                    1  \n",
       "4                        0                    1  "
      ]
     },
     "execution_count": 138,
     "metadata": {},
     "output_type": "execute_result"
    }
   ],
   "source": [
    "bikes.head()"
   ]
  },
  {
   "cell_type": "code",
   "execution_count": 143,
   "id": "35fab8d8",
   "metadata": {},
   "outputs": [],
   "source": [
    "def get_avra_cat(avra):\n",
    "    if avra < 3:\n",
    "        return 'Cringe'\n",
    "    elif avra < 4:\n",
    "        return 'Norm'\n",
    "    elif avra >= 4:\n",
    "        return 'Nice'\n",
    "    else:\n",
    "        return avra"
   ]
  },
  {
   "cell_type": "code",
   "execution_count": 144,
   "id": "5e0d970e",
   "metadata": {},
   "outputs": [
    {
     "data": {
      "text/plain": [
       "0       Nice\n",
       "1       Nice\n",
       "2       Nice\n",
       "3       Nice\n",
       "4       Nice\n",
       "        ... \n",
       "1725    Nice\n",
       "1726    Nice\n",
       "1727    Nice\n",
       "1728    Nice\n",
       "1729    Norm\n",
       "Name: average rating, Length: 1730, dtype: object"
      ]
     },
     "execution_count": 144,
     "metadata": {},
     "output_type": "execute_result"
    }
   ],
   "source": [
    "bikes['average rating'].apply(get_avra_cat)"
   ]
  },
  {
   "cell_type": "code",
   "execution_count": 145,
   "id": "9db98ab6",
   "metadata": {},
   "outputs": [],
   "source": [
    "bikes['average rating category'] = bikes['average rating'].apply(get_avra_cat)"
   ]
  },
  {
   "cell_type": "code",
   "execution_count": 146,
   "id": "60f3ff69",
   "metadata": {},
   "outputs": [
    {
     "data": {
      "text/html": [
       "<div>\n",
       "<style scoped>\n",
       "    .dataframe tbody tr th:only-of-type {\n",
       "        vertical-align: middle;\n",
       "    }\n",
       "\n",
       "    .dataframe tbody tr th {\n",
       "        vertical-align: top;\n",
       "    }\n",
       "\n",
       "    .dataframe thead th {\n",
       "        text-align: right;\n",
       "    }\n",
       "</style>\n",
       "<table border=\"1\" class=\"dataframe\">\n",
       "  <thead>\n",
       "    <tr style=\"text-align: right;\">\n",
       "      <th></th>\n",
       "      <th>rank</th>\n",
       "      <th>title</th>\n",
       "      <th>total ratings</th>\n",
       "      <th>installs</th>\n",
       "      <th>average rating</th>\n",
       "      <th>growth (30 days)</th>\n",
       "      <th>growth (60 days)</th>\n",
       "      <th>price</th>\n",
       "      <th>category</th>\n",
       "      <th>5 star ratings</th>\n",
       "      <th>4 star ratings</th>\n",
       "      <th>3 star ratings</th>\n",
       "      <th>2 star ratings</th>\n",
       "      <th>1 star ratings</th>\n",
       "      <th>paid</th>\n",
       "      <th>Rental Count</th>\n",
       "      <th>payment of voters</th>\n",
       "      <th>normal growth (30 days)</th>\n",
       "      <th>large base of votes</th>\n",
       "      <th>average rating category</th>\n",
       "    </tr>\n",
       "  </thead>\n",
       "  <tbody>\n",
       "    <tr>\n",
       "      <th>0</th>\n",
       "      <td>1</td>\n",
       "      <td>Garena Free Fire- World Series</td>\n",
       "      <td>86273129</td>\n",
       "      <td>500.0 M</td>\n",
       "      <td>4</td>\n",
       "      <td>2.1</td>\n",
       "      <td>6.9</td>\n",
       "      <td>0.0</td>\n",
       "      <td>GAME ACTION</td>\n",
       "      <td>63546766</td>\n",
       "      <td>4949507</td>\n",
       "      <td>3158756</td>\n",
       "      <td>2122183</td>\n",
       "      <td>12495915</td>\n",
       "      <td>False</td>\n",
       "      <td>0.0</td>\n",
       "      <td>0.0</td>\n",
       "      <td>0</td>\n",
       "      <td>1</td>\n",
       "      <td>Nice</td>\n",
       "    </tr>\n",
       "    <tr>\n",
       "      <th>1</th>\n",
       "      <td>2</td>\n",
       "      <td>PUBG MOBILE - Traverse</td>\n",
       "      <td>37276732</td>\n",
       "      <td>500.0 M</td>\n",
       "      <td>4</td>\n",
       "      <td>1.8</td>\n",
       "      <td>3.6</td>\n",
       "      <td>0.0</td>\n",
       "      <td>GAME ACTION</td>\n",
       "      <td>28339753</td>\n",
       "      <td>2164478</td>\n",
       "      <td>1253185</td>\n",
       "      <td>809821</td>\n",
       "      <td>4709492</td>\n",
       "      <td>False</td>\n",
       "      <td>0.0</td>\n",
       "      <td>0.0</td>\n",
       "      <td>0</td>\n",
       "      <td>1</td>\n",
       "      <td>Nice</td>\n",
       "    </tr>\n",
       "    <tr>\n",
       "      <th>2</th>\n",
       "      <td>3</td>\n",
       "      <td>Mobile Legends: Bang Bang</td>\n",
       "      <td>26663595</td>\n",
       "      <td>100.0 M</td>\n",
       "      <td>4</td>\n",
       "      <td>1.5</td>\n",
       "      <td>3.2</td>\n",
       "      <td>0.0</td>\n",
       "      <td>GAME ACTION</td>\n",
       "      <td>18777988</td>\n",
       "      <td>1812094</td>\n",
       "      <td>1050600</td>\n",
       "      <td>713912</td>\n",
       "      <td>4308998</td>\n",
       "      <td>False</td>\n",
       "      <td>0.0</td>\n",
       "      <td>0.0</td>\n",
       "      <td>0</td>\n",
       "      <td>1</td>\n",
       "      <td>Nice</td>\n",
       "    </tr>\n",
       "    <tr>\n",
       "      <th>3</th>\n",
       "      <td>4</td>\n",
       "      <td>Brawl Stars</td>\n",
       "      <td>17971552</td>\n",
       "      <td>100.0 M</td>\n",
       "      <td>4</td>\n",
       "      <td>1.4</td>\n",
       "      <td>4.4</td>\n",
       "      <td>0.0</td>\n",
       "      <td>GAME ACTION</td>\n",
       "      <td>13018610</td>\n",
       "      <td>1552950</td>\n",
       "      <td>774012</td>\n",
       "      <td>406184</td>\n",
       "      <td>2219794</td>\n",
       "      <td>False</td>\n",
       "      <td>0.0</td>\n",
       "      <td>0.0</td>\n",
       "      <td>0</td>\n",
       "      <td>1</td>\n",
       "      <td>Nice</td>\n",
       "    </tr>\n",
       "    <tr>\n",
       "      <th>4</th>\n",
       "      <td>5</td>\n",
       "      <td>Sniper 3D: Fun Free Online FPS Shooting Game</td>\n",
       "      <td>14464235</td>\n",
       "      <td>500.0 M</td>\n",
       "      <td>4</td>\n",
       "      <td>0.8</td>\n",
       "      <td>1.5</td>\n",
       "      <td>0.0</td>\n",
       "      <td>GAME ACTION</td>\n",
       "      <td>9827328</td>\n",
       "      <td>2124154</td>\n",
       "      <td>1047741</td>\n",
       "      <td>380670</td>\n",
       "      <td>1084340</td>\n",
       "      <td>False</td>\n",
       "      <td>0.0</td>\n",
       "      <td>0.0</td>\n",
       "      <td>0</td>\n",
       "      <td>1</td>\n",
       "      <td>Nice</td>\n",
       "    </tr>\n",
       "  </tbody>\n",
       "</table>\n",
       "</div>"
      ],
      "text/plain": [
       "   rank                                         title  total ratings installs  \\\n",
       "0     1                Garena Free Fire- World Series       86273129  500.0 M   \n",
       "1     2                        PUBG MOBILE - Traverse       37276732  500.0 M   \n",
       "2     3                     Mobile Legends: Bang Bang       26663595  100.0 M   \n",
       "3     4                                   Brawl Stars       17971552  100.0 M   \n",
       "4     5  Sniper 3D: Fun Free Online FPS Shooting Game       14464235  500.0 M   \n",
       "\n",
       "   average rating  growth (30 days)  growth (60 days)  price     category  \\\n",
       "0               4               2.1               6.9    0.0  GAME ACTION   \n",
       "1               4               1.8               3.6    0.0  GAME ACTION   \n",
       "2               4               1.5               3.2    0.0  GAME ACTION   \n",
       "3               4               1.4               4.4    0.0  GAME ACTION   \n",
       "4               4               0.8               1.5    0.0  GAME ACTION   \n",
       "\n",
       "   5 star ratings  4 star ratings  3 star ratings  2 star ratings  \\\n",
       "0        63546766         4949507         3158756         2122183   \n",
       "1        28339753         2164478         1253185          809821   \n",
       "2        18777988         1812094         1050600          713912   \n",
       "3        13018610         1552950          774012          406184   \n",
       "4         9827328         2124154         1047741          380670   \n",
       "\n",
       "   1 star ratings   paid  Rental Count  payment of voters  \\\n",
       "0        12495915  False           0.0                0.0   \n",
       "1         4709492  False           0.0                0.0   \n",
       "2         4308998  False           0.0                0.0   \n",
       "3         2219794  False           0.0                0.0   \n",
       "4         1084340  False           0.0                0.0   \n",
       "\n",
       "   normal growth (30 days)  large base of votes average rating category  \n",
       "0                        0                    1                    Nice  \n",
       "1                        0                    1                    Nice  \n",
       "2                        0                    1                    Nice  \n",
       "3                        0                    1                    Nice  \n",
       "4                        0                    1                    Nice  "
      ]
     },
     "execution_count": 146,
     "metadata": {},
     "output_type": "execute_result"
    }
   ],
   "source": [
    "bikes.head()"
   ]
  },
  {
   "cell_type": "code",
   "execution_count": 148,
   "id": "11d1be20",
   "metadata": {},
   "outputs": [],
   "source": [
    "del bikes['normal growth (30 days)']"
   ]
  },
  {
   "cell_type": "code",
   "execution_count": 150,
   "id": "f4486f2f",
   "metadata": {},
   "outputs": [],
   "source": [
    "del bikes['Rental Count']"
   ]
  },
  {
   "cell_type": "code",
   "execution_count": 155,
   "id": "113bab24",
   "metadata": {},
   "outputs": [],
   "source": [
    "bikes['average rating category'] = pd.Categorical(bikes['average rating category'])"
   ]
  },
  {
   "cell_type": "code",
   "execution_count": 158,
   "id": "79e10c85",
   "metadata": {},
   "outputs": [
    {
     "data": {
      "text/plain": [
       "0       1\n",
       "1       1\n",
       "2       1\n",
       "3       1\n",
       "4       1\n",
       "       ..\n",
       "1725    1\n",
       "1726    1\n",
       "1727    1\n",
       "1728    1\n",
       "1729    2\n",
       "Length: 1730, dtype: int8"
      ]
     },
     "execution_count": 158,
     "metadata": {},
     "output_type": "execute_result"
    }
   ],
   "source": [
    "bikes['average rating category'].cat.codes"
   ]
  },
  {
   "cell_type": "code",
   "execution_count": 159,
   "id": "40cdd5d0",
   "metadata": {},
   "outputs": [
    {
     "data": {
      "text/plain": [
       "Index(['Cringe', 'Nice', 'Norm'], dtype='object')"
      ]
     },
     "execution_count": 159,
     "metadata": {},
     "output_type": "execute_result"
    }
   ],
   "source": [
    "bikes['average rating category'].cat.categories"
   ]
  },
  {
   "cell_type": "markdown",
   "id": "8fca656e",
   "metadata": {},
   "source": [
    "# Найдем наиболее успешные игровые проекты по всем жанрам в топе GOOGLE PLAY среди не платных тайтлов - Они должны иметь среднюю оценку 4, быть бесплатными, иметь голоса свыше 20млн и иметь показатель роста и на 30, и на 60 дней выше единицы:"
   ]
  },
  {
   "cell_type": "code",
   "execution_count": 162,
   "id": "fda05924",
   "metadata": {},
   "outputs": [],
   "source": [
    "import numpy as np"
   ]
  },
  {
   "cell_type": "code",
   "execution_count": 189,
   "id": "1dabe1ae",
   "metadata": {},
   "outputs": [
    {
     "data": {
      "text/plain": [
       "array([1, 1, 1, ..., 0, 0, 0])"
      ]
     },
     "execution_count": 189,
     "metadata": {},
     "output_type": "execute_result"
    }
   ],
   "source": [
    "np.where((bikes['average rating category'] == 'Nice') &\n",
    "         (bikes['large base of votes'] == 1) &\n",
    "         (bikes['price'] <= 0.0) &\n",
    "         (bikes['growth (30 days)'] >= 1) &\n",
    "         (bikes['growth (60 days)'] >= 1), 1, 0)"
   ]
  },
  {
   "cell_type": "code",
   "execution_count": 190,
   "id": "e5035a25",
   "metadata": {},
   "outputs": [],
   "source": [
    "bikes['successful games'] = np.where((bikes['average rating category'] == 'Nice') &\n",
    "         (bikes['large base of votes'] == 1) &\n",
    "         (bikes['price'] <= 0.0) &\n",
    "         (bikes['growth (30 days)'] >= 1) &\n",
    "         (bikes['growth (60 days)'] >= 1), 1, 0)"
   ]
  },
  {
   "cell_type": "code",
   "execution_count": 191,
   "id": "70377e56",
   "metadata": {},
   "outputs": [
    {
     "name": "stdout",
     "output_type": "stream",
     "text": [
      "<class 'pandas.core.frame.DataFrame'>\n",
      "RangeIndex: 1730 entries, 0 to 1729\n",
      "Data columns (total 19 columns):\n",
      " #   Column                   Non-Null Count  Dtype   \n",
      "---  ------                   --------------  -----   \n",
      " 0   rank                     1730 non-null   int64   \n",
      " 1   title                    1730 non-null   object  \n",
      " 2   total ratings            1730 non-null   int64   \n",
      " 3   installs                 1730 non-null   object  \n",
      " 4   average rating           1730 non-null   int64   \n",
      " 5   growth (30 days)         1730 non-null   float64 \n",
      " 6   growth (60 days)         1730 non-null   float64 \n",
      " 7   price                    1730 non-null   float64 \n",
      " 8   category                 1730 non-null   object  \n",
      " 9   5 star ratings           1730 non-null   int64   \n",
      " 10  4 star ratings           1730 non-null   int64   \n",
      " 11  3 star ratings           1730 non-null   int64   \n",
      " 12  2 star ratings           1730 non-null   int64   \n",
      " 13  1 star ratings           1730 non-null   int64   \n",
      " 14  paid                     1730 non-null   bool    \n",
      " 15  payment of voters        1730 non-null   float64 \n",
      " 16  large base of votes      1730 non-null   int64   \n",
      " 17  average rating category  1730 non-null   category\n",
      " 18  successful games         1730 non-null   int32   \n",
      "dtypes: bool(1), category(1), float64(4), int32(1), int64(9), object(3)\n",
      "memory usage: 226.6+ KB\n"
     ]
    }
   ],
   "source": [
    "bikes.info()"
   ]
  },
  {
   "cell_type": "code",
   "execution_count": 192,
   "id": "d3621c22",
   "metadata": {},
   "outputs": [
    {
     "data": {
      "text/plain": [
       "7"
      ]
     },
     "execution_count": 192,
     "metadata": {},
     "output_type": "execute_result"
    }
   ],
   "source": [
    "bikes['successful games'].sum()"
   ]
  },
  {
   "cell_type": "markdown",
   "id": "67dcfcf5",
   "metadata": {},
   "source": [
    "**Всего из выборки более чем в 1700 игр, успешны по всем критериям только 7 проектов**"
   ]
  },
  {
   "cell_type": "markdown",
   "id": "7fa7de4b",
   "metadata": {},
   "source": [
    "# По аналогии найдем наименее успешные игровые проекты по всем жанрам в топе GOOGLE PLAY среди не платных тайтлов - Они должны иметь среднюю оценку 3 и ниже, быть бесплатными, и иметь показатель роста и на 30, и на 60 дней ниже или раврно 0.5:"
   ]
  },
  {
   "cell_type": "code",
   "execution_count": 197,
   "id": "d077e152",
   "metadata": {},
   "outputs": [
    {
     "data": {
      "text/plain": [
       "array([0, 0, 0, ..., 0, 0, 0])"
      ]
     },
     "execution_count": 197,
     "metadata": {},
     "output_type": "execute_result"
    }
   ],
   "source": [
    "np.where((bikes['average rating category'] == 'Norm') &\n",
    "         (bikes['large base of votes'] == 0) &\n",
    "         (bikes['price'] <= 0.0) &\n",
    "         (bikes['growth (30 days)'] <= 0.5) &\n",
    "         (bikes['growth (60 days)'] <= 0.5), 1, 0)"
   ]
  },
  {
   "cell_type": "code",
   "execution_count": 198,
   "id": "c829bd90",
   "metadata": {},
   "outputs": [],
   "source": [
    "bikes['least successful games'] = np.where((bikes['average rating category'] == 'Norm') &\n",
    "         (bikes['large base of votes'] == 0) &\n",
    "         (bikes['price'] <= 0.0) &\n",
    "         (bikes['growth (30 days)'] <= 0.5) &\n",
    "         (bikes['growth (60 days)'] <= 0.5), 1, 0)"
   ]
  },
  {
   "cell_type": "code",
   "execution_count": 199,
   "id": "0a6818af",
   "metadata": {},
   "outputs": [
    {
     "name": "stdout",
     "output_type": "stream",
     "text": [
      "<class 'pandas.core.frame.DataFrame'>\n",
      "RangeIndex: 1730 entries, 0 to 1729\n",
      "Data columns (total 20 columns):\n",
      " #   Column                   Non-Null Count  Dtype   \n",
      "---  ------                   --------------  -----   \n",
      " 0   rank                     1730 non-null   int64   \n",
      " 1   title                    1730 non-null   object  \n",
      " 2   total ratings            1730 non-null   int64   \n",
      " 3   installs                 1730 non-null   object  \n",
      " 4   average rating           1730 non-null   int64   \n",
      " 5   growth (30 days)         1730 non-null   float64 \n",
      " 6   growth (60 days)         1730 non-null   float64 \n",
      " 7   price                    1730 non-null   float64 \n",
      " 8   category                 1730 non-null   object  \n",
      " 9   5 star ratings           1730 non-null   int64   \n",
      " 10  4 star ratings           1730 non-null   int64   \n",
      " 11  3 star ratings           1730 non-null   int64   \n",
      " 12  2 star ratings           1730 non-null   int64   \n",
      " 13  1 star ratings           1730 non-null   int64   \n",
      " 14  paid                     1730 non-null   bool    \n",
      " 15  payment of voters        1730 non-null   float64 \n",
      " 16  large base of votes      1730 non-null   int64   \n",
      " 17  average rating category  1730 non-null   category\n",
      " 18  successful games         1730 non-null   int32   \n",
      " 19  least successful games   1730 non-null   int32   \n",
      "dtypes: bool(1), category(1), float64(4), int32(2), int64(9), object(3)\n",
      "memory usage: 233.4+ KB\n"
     ]
    }
   ],
   "source": [
    "bikes.info()"
   ]
  },
  {
   "cell_type": "code",
   "execution_count": 201,
   "id": "8dd586ff",
   "metadata": {},
   "outputs": [
    {
     "data": {
      "text/plain": [
       "68"
      ]
     },
     "execution_count": 201,
     "metadata": {},
     "output_type": "execute_result"
    }
   ],
   "source": [
    "bikes['least successful games'].sum()"
   ]
  },
  {
   "cell_type": "markdown",
   "id": "cf1fb1e1",
   "metadata": {},
   "source": [
    "**Всего из выборки более чем в 1700 игр, наименее успешными можно назвать 68 проектов**"
   ]
  },
  {
   "cell_type": "code",
   "execution_count": 203,
   "id": "a880a5db",
   "metadata": {},
   "outputs": [
    {
     "data": {
      "text/plain": [
       "Nice      1572\n",
       "Norm       157\n",
       "Cringe       1\n",
       "Name: average rating category, dtype: int64"
      ]
     },
     "execution_count": 203,
     "metadata": {},
     "output_type": "execute_result"
    }
   ],
   "source": [
    "bikes['average rating category'].value_counts()"
   ]
  },
  {
   "cell_type": "code",
   "execution_count": 204,
   "id": "f5607fb0",
   "metadata": {},
   "outputs": [
    {
     "data": {
      "text/plain": [
       "Nice      1572\n",
       "Norm       157\n",
       "Cringe       1\n",
       "Name: average rating category, dtype: int64"
      ]
     },
     "execution_count": 204,
     "metadata": {},
     "output_type": "execute_result"
    }
   ],
   "source": [
    "bikes['average rating category'].value_counts(dropna=False)"
   ]
  },
  {
   "cell_type": "markdown",
   "id": "9bbaf345",
   "metadata": {},
   "source": [
    "**сколько пятизвездочных оценок было поставлено, по разным игрым сгруппированных по средним оценкам**"
   ]
  },
  {
   "cell_type": "code",
   "execution_count": 205,
   "id": "532f8559",
   "metadata": {},
   "outputs": [
    {
     "data": {
      "text/plain": [
       "average rating\n",
       "2         84461\n",
       "3      51957589\n",
       "4    1266618396\n",
       "Name: 5 star ratings, dtype: int64"
      ]
     },
     "execution_count": 205,
     "metadata": {},
     "output_type": "execute_result"
    }
   ],
   "source": [
    "bikes.groupby('average rating')['5 star ratings'].sum()"
   ]
  },
  {
   "cell_type": "markdown",
   "id": "efe030f5",
   "metadata": {},
   "source": [
    "**сколько оценок единиц было поставлено, по разным игрым сгруппированных по средним оценкам**"
   ]
  },
  {
   "cell_type": "code",
   "execution_count": 206,
   "id": "cacc1a6c",
   "metadata": {},
   "outputs": [
    {
     "data": {
      "text/plain": [
       "average rating\n",
       "2       125025\n",
       "3     18997092\n",
       "4    156464151\n",
       "Name: 1 star ratings, dtype: int64"
      ]
     },
     "execution_count": 206,
     "metadata": {},
     "output_type": "execute_result"
    }
   ],
   "source": [
    "bikes.groupby('average rating')['1 star ratings'].sum()"
   ]
  },
  {
   "cell_type": "markdown",
   "id": "51e28750",
   "metadata": {},
   "source": [
    "**У нас в топе есть только одна игра с оценкой 2 - и очевидно почему у этого продукта проблемы**"
   ]
  },
  {
   "cell_type": "markdown",
   "id": "cc69dd95",
   "metadata": {},
   "source": [
    "# Проверим взаимосвязь между средней оценкой игры и количеством скачиваний"
   ]
  },
  {
   "cell_type": "code",
   "execution_count": 208,
   "id": "4b0689a0",
   "metadata": {},
   "outputs": [
    {
     "data": {
      "text/plain": [
       "average rating  installs\n",
       "2               10.0 M        1\n",
       "3               10.0 M       82\n",
       "                5.0 M        26\n",
       "                50.0 M       19\n",
       "                1.0 M        16\n",
       "                100.0 M      14\n",
       "4               10.0 M      722\n",
       "                50.0 M      233\n",
       "                5.0 M       219\n",
       "                100.0 M     190\n",
       "                1.0 M       176\n",
       "                500.0 k      15\n",
       "                500.0 M      12\n",
       "                100.0 k       3\n",
       "                1000.0 M      2\n",
       "Name: installs, dtype: int64"
      ]
     },
     "execution_count": 208,
     "metadata": {},
     "output_type": "execute_result"
    }
   ],
   "source": [
    "bikes.groupby('average rating')['installs'].value_counts()"
   ]
  },
  {
   "cell_type": "code",
   "execution_count": 215,
   "id": "9fbc2223",
   "metadata": {},
   "outputs": [
    {
     "data": {
      "text/plain": [
       "<AxesSubplot:xlabel='average rating,installs'>"
      ]
     },
     "execution_count": 215,
     "metadata": {},
     "output_type": "execute_result"
    },
    {
     "data": {
      "image/png": "[encoded data removed]",
      "text/plain": [
       "<Figure size 640x480 with 1 Axes>"
      ]
     },
     "metadata": {},
     "output_type": "display_data"
    }
   ],
   "source": [
    "bikes.groupby('average rating')['installs'].value_counts().plot(kind='bar')"
   ]
  },
  {
   "cell_type": "code",
   "execution_count": 216,
   "id": "b063d5be",
   "metadata": {},
   "outputs": [
    {
     "data": {
      "text/html": [
       "<div>\n",
       "<style scoped>\n",
       "    .dataframe tbody tr th:only-of-type {\n",
       "        vertical-align: middle;\n",
       "    }\n",
       "\n",
       "    .dataframe tbody tr th {\n",
       "        vertical-align: top;\n",
       "    }\n",
       "\n",
       "    .dataframe thead th {\n",
       "        text-align: right;\n",
       "    }\n",
       "</style>\n",
       "<table border=\"1\" class=\"dataframe\">\n",
       "  <thead>\n",
       "    <tr style=\"text-align: right;\">\n",
       "      <th>installs</th>\n",
       "      <th>1.0 M</th>\n",
       "      <th>10.0 M</th>\n",
       "      <th>100.0 M</th>\n",
       "      <th>100.0 k</th>\n",
       "      <th>1000.0 M</th>\n",
       "      <th>5.0 M</th>\n",
       "      <th>50.0 M</th>\n",
       "      <th>500.0 M</th>\n",
       "      <th>500.0 k</th>\n",
       "    </tr>\n",
       "    <tr>\n",
       "      <th>average rating</th>\n",
       "      <th></th>\n",
       "      <th></th>\n",
       "      <th></th>\n",
       "      <th></th>\n",
       "      <th></th>\n",
       "      <th></th>\n",
       "      <th></th>\n",
       "      <th></th>\n",
       "      <th></th>\n",
       "    </tr>\n",
       "  </thead>\n",
       "  <tbody>\n",
       "    <tr>\n",
       "      <th>2</th>\n",
       "      <td>NaN</td>\n",
       "      <td>1.0</td>\n",
       "      <td>NaN</td>\n",
       "      <td>NaN</td>\n",
       "      <td>NaN</td>\n",
       "      <td>NaN</td>\n",
       "      <td>NaN</td>\n",
       "      <td>NaN</td>\n",
       "      <td>NaN</td>\n",
       "    </tr>\n",
       "    <tr>\n",
       "      <th>3</th>\n",
       "      <td>16.0</td>\n",
       "      <td>82.0</td>\n",
       "      <td>14.0</td>\n",
       "      <td>NaN</td>\n",
       "      <td>NaN</td>\n",
       "      <td>26.0</td>\n",
       "      <td>19.0</td>\n",
       "      <td>NaN</td>\n",
       "      <td>NaN</td>\n",
       "    </tr>\n",
       "    <tr>\n",
       "      <th>4</th>\n",
       "      <td>176.0</td>\n",
       "      <td>722.0</td>\n",
       "      <td>190.0</td>\n",
       "      <td>3.0</td>\n",
       "      <td>2.0</td>\n",
       "      <td>219.0</td>\n",
       "      <td>233.0</td>\n",
       "      <td>12.0</td>\n",
       "      <td>15.0</td>\n",
       "    </tr>\n",
       "  </tbody>\n",
       "</table>\n",
       "</div>"
      ],
      "text/plain": [
       "installs        1.0 M  10.0 M  100.0 M  100.0 k  1000.0 M  5.0 M  50.0 M  \\\n",
       "average rating                                                             \n",
       "2                 NaN     1.0      NaN      NaN       NaN    NaN     NaN   \n",
       "3                16.0    82.0     14.0      NaN       NaN   26.0    19.0   \n",
       "4               176.0   722.0    190.0      3.0       2.0  219.0   233.0   \n",
       "\n",
       "installs        500.0 M  500.0 k  \n",
       "average rating                    \n",
       "2                   NaN      NaN  \n",
       "3                   NaN      NaN  \n",
       "4                  12.0     15.0  "
      ]
     },
     "execution_count": 216,
     "metadata": {},
     "output_type": "execute_result"
    }
   ],
   "source": [
    "bikes.groupby('average rating')['installs'].value_counts().unstack()"
   ]
  },
  {
   "cell_type": "code",
   "execution_count": 217,
   "id": "c8c72f97",
   "metadata": {},
   "outputs": [
    {
     "data": {
      "text/plain": [
       "<AxesSubplot:xlabel='average rating'>"
      ]
     },
     "execution_count": 217,
     "metadata": {},
     "output_type": "execute_result"
    },
    {
     "data": {
      "image/png": "[encoded data removed]",
      "text/plain": [
       "<Figure size 640x480 with 1 Axes>"
      ]
     },
     "metadata": {},
     "output_type": "display_data"
    }
   ],
   "source": [
    "bikes.groupby('average rating')['installs'].value_counts().unstack().plot(kind='bar')"
   ]
  },
  {
   "cell_type": "markdown",
   "id": "c5eed560",
   "metadata": {},
   "source": [
    "**Крупные игры, с объемом скачиваний свыше 100 и 500 миллионов, очевидно наиболее представлены среди игр с средним рейтингом 4, при этом в основном оценка 4 у игр с 10 миллионами скачивания - а это не топ лидеры рынка, но а гиганты (от миллиарда) - имеют оценку 4**"
   ]
  },
  {
   "cell_type": "markdown",
   "id": "50b358e6",
   "metadata": {},
   "source": [
    "# Соотнесем рост игр их топа GOOGLE PLAY за 30 и 60 дней"
   ]
  },
  {
   "cell_type": "code",
   "execution_count": 225,
   "id": "c7a5e351",
   "metadata": {},
   "outputs": [
    {
     "data": {
      "text/plain": [
       "321.7358959537557"
      ]
     },
     "execution_count": 225,
     "metadata": {},
     "output_type": "execute_result"
    }
   ],
   "source": [
    "bikes['growth (30 days)'].mean()"
   ]
  },
  {
   "cell_type": "code",
   "execution_count": 224,
   "id": "6cc7ffeb",
   "metadata": {},
   "outputs": [
    {
     "data": {
      "text/plain": [
       "0.5"
      ]
     },
     "execution_count": 224,
     "metadata": {},
     "output_type": "execute_result"
    }
   ],
   "source": [
    "bikes['growth (30 days)'].median()"
   ]
  },
  {
   "cell_type": "code",
   "execution_count": 228,
   "id": "433b8e00",
   "metadata": {},
   "outputs": [
    {
     "data": {
      "text/plain": [
       "0    0.0\n",
       "Name: growth (30 days), dtype: float64"
      ]
     },
     "execution_count": 228,
     "metadata": {},
     "output_type": "execute_result"
    }
   ],
   "source": [
    "bikes['growth (30 days)'].mode()"
   ]
  },
  {
   "cell_type": "code",
   "execution_count": 229,
   "id": "e65fbf63",
   "metadata": {},
   "outputs": [
    {
     "data": {
      "text/plain": [
       "122.5549710982664"
      ]
     },
     "execution_count": 229,
     "metadata": {},
     "output_type": "execute_result"
    }
   ],
   "source": [
    "bikes['growth (60 days)'].mean()"
   ]
  },
  {
   "cell_type": "code",
   "execution_count": 230,
   "id": "0f19feb3",
   "metadata": {},
   "outputs": [
    {
     "data": {
      "text/plain": [
       "1.0"
      ]
     },
     "execution_count": 230,
     "metadata": {},
     "output_type": "execute_result"
    }
   ],
   "source": [
    "bikes['growth (60 days)'].median()"
   ]
  },
  {
   "cell_type": "code",
   "execution_count": 231,
   "id": "694dbd88",
   "metadata": {},
   "outputs": [
    {
     "data": {
      "text/plain": [
       "0    0.0\n",
       "Name: growth (60 days), dtype: float64"
      ]
     },
     "execution_count": 231,
     "metadata": {},
     "output_type": "execute_result"
    }
   ],
   "source": [
    "bikes['growth (60 days)'].mode()"
   ]
  },
  {
   "cell_type": "markdown",
   "id": "51726b0d",
   "metadata": {},
   "source": [
    "**К 60 дню медианное значение подрасло - а значит показатели сдвинулись в большую сторону, при этом среднее значение уменьшилось - но на него сложно ориентироваться поскольку есть специфически большие показатели в дата сете, но они единичны**"
   ]
  },
  {
   "cell_type": "markdown",
   "id": "cf4f5975",
   "metadata": {},
   "source": [
    "# Изучим средний показатель от average rating кадой игры в рамках ее жанра"
   ]
  },
  {
   "cell_type": "code",
   "execution_count": 8,
   "id": "88960c14",
   "metadata": {},
   "outputs": [
    {
     "data": {
      "text/html": [
       "<div>\n",
       "<style scoped>\n",
       "    .dataframe tbody tr th:only-of-type {\n",
       "        vertical-align: middle;\n",
       "    }\n",
       "\n",
       "    .dataframe tbody tr th {\n",
       "        vertical-align: top;\n",
       "    }\n",
       "\n",
       "    .dataframe thead th {\n",
       "        text-align: right;\n",
       "    }\n",
       "</style>\n",
       "<table border=\"1\" class=\"dataframe\">\n",
       "  <thead>\n",
       "    <tr style=\"text-align: right;\">\n",
       "      <th></th>\n",
       "      <th>rank</th>\n",
       "      <th>title</th>\n",
       "      <th>total ratings</th>\n",
       "      <th>installs</th>\n",
       "      <th>average rating</th>\n",
       "      <th>growth (30 days)</th>\n",
       "      <th>growth (60 days)</th>\n",
       "      <th>price</th>\n",
       "      <th>category</th>\n",
       "      <th>5 star ratings</th>\n",
       "      <th>4 star ratings</th>\n",
       "      <th>3 star ratings</th>\n",
       "      <th>2 star ratings</th>\n",
       "      <th>1 star ratings</th>\n",
       "      <th>paid</th>\n",
       "    </tr>\n",
       "  </thead>\n",
       "  <tbody>\n",
       "    <tr>\n",
       "      <th>0</th>\n",
       "      <td>1</td>\n",
       "      <td>Garena Free Fire- World Series</td>\n",
       "      <td>86273129</td>\n",
       "      <td>500.0 M</td>\n",
       "      <td>4</td>\n",
       "      <td>2.1</td>\n",
       "      <td>6.9</td>\n",
       "      <td>0.0</td>\n",
       "      <td>GAME ACTION</td>\n",
       "      <td>63546766</td>\n",
       "      <td>4949507</td>\n",
       "      <td>3158756</td>\n",
       "      <td>2122183</td>\n",
       "      <td>12495915</td>\n",
       "      <td>False</td>\n",
       "    </tr>\n",
       "    <tr>\n",
       "      <th>1</th>\n",
       "      <td>2</td>\n",
       "      <td>PUBG MOBILE - Traverse</td>\n",
       "      <td>37276732</td>\n",
       "      <td>500.0 M</td>\n",
       "      <td>4</td>\n",
       "      <td>1.8</td>\n",
       "      <td>3.6</td>\n",
       "      <td>0.0</td>\n",
       "      <td>GAME ACTION</td>\n",
       "      <td>28339753</td>\n",
       "      <td>2164478</td>\n",
       "      <td>1253185</td>\n",
       "      <td>809821</td>\n",
       "      <td>4709492</td>\n",
       "      <td>False</td>\n",
       "    </tr>\n",
       "    <tr>\n",
       "      <th>2</th>\n",
       "      <td>3</td>\n",
       "      <td>Mobile Legends: Bang Bang</td>\n",
       "      <td>26663595</td>\n",
       "      <td>100.0 M</td>\n",
       "      <td>4</td>\n",
       "      <td>1.5</td>\n",
       "      <td>3.2</td>\n",
       "      <td>0.0</td>\n",
       "      <td>GAME ACTION</td>\n",
       "      <td>18777988</td>\n",
       "      <td>1812094</td>\n",
       "      <td>1050600</td>\n",
       "      <td>713912</td>\n",
       "      <td>4308998</td>\n",
       "      <td>False</td>\n",
       "    </tr>\n",
       "    <tr>\n",
       "      <th>3</th>\n",
       "      <td>4</td>\n",
       "      <td>Brawl Stars</td>\n",
       "      <td>17971552</td>\n",
       "      <td>100.0 M</td>\n",
       "      <td>4</td>\n",
       "      <td>1.4</td>\n",
       "      <td>4.4</td>\n",
       "      <td>0.0</td>\n",
       "      <td>GAME ACTION</td>\n",
       "      <td>13018610</td>\n",
       "      <td>1552950</td>\n",
       "      <td>774012</td>\n",
       "      <td>406184</td>\n",
       "      <td>2219794</td>\n",
       "      <td>False</td>\n",
       "    </tr>\n",
       "    <tr>\n",
       "      <th>4</th>\n",
       "      <td>5</td>\n",
       "      <td>Sniper 3D: Fun Free Online FPS Shooting Game</td>\n",
       "      <td>14464235</td>\n",
       "      <td>500.0 M</td>\n",
       "      <td>4</td>\n",
       "      <td>0.8</td>\n",
       "      <td>1.5</td>\n",
       "      <td>0.0</td>\n",
       "      <td>GAME ACTION</td>\n",
       "      <td>9827328</td>\n",
       "      <td>2124154</td>\n",
       "      <td>1047741</td>\n",
       "      <td>380670</td>\n",
       "      <td>1084340</td>\n",
       "      <td>False</td>\n",
       "    </tr>\n",
       "    <tr>\n",
       "      <th>...</th>\n",
       "      <td>...</td>\n",
       "      <td>...</td>\n",
       "      <td>...</td>\n",
       "      <td>...</td>\n",
       "      <td>...</td>\n",
       "      <td>...</td>\n",
       "      <td>...</td>\n",
       "      <td>...</td>\n",
       "      <td>...</td>\n",
       "      <td>...</td>\n",
       "      <td>...</td>\n",
       "      <td>...</td>\n",
       "      <td>...</td>\n",
       "      <td>...</td>\n",
       "      <td>...</td>\n",
       "    </tr>\n",
       "    <tr>\n",
       "      <th>1725</th>\n",
       "      <td>96</td>\n",
       "      <td>زوايا - لعبة ستحرك زوايا عقلك</td>\n",
       "      <td>112408</td>\n",
       "      <td>1.0 M</td>\n",
       "      <td>4</td>\n",
       "      <td>0.9</td>\n",
       "      <td>1.8</td>\n",
       "      <td>0.0</td>\n",
       "      <td>GAME WORD</td>\n",
       "      <td>101036</td>\n",
       "      <td>3607</td>\n",
       "      <td>3237</td>\n",
       "      <td>1229</td>\n",
       "      <td>3297</td>\n",
       "      <td>False</td>\n",
       "    </tr>\n",
       "    <tr>\n",
       "      <th>1726</th>\n",
       "      <td>97</td>\n",
       "      <td>Bible Word Puzzle - Free Bible Word Games</td>\n",
       "      <td>111595</td>\n",
       "      <td>1.0 M</td>\n",
       "      <td>4</td>\n",
       "      <td>0.9</td>\n",
       "      <td>2.3</td>\n",
       "      <td>0.0</td>\n",
       "      <td>GAME WORD</td>\n",
       "      <td>88950</td>\n",
       "      <td>14856</td>\n",
       "      <td>4297</td>\n",
       "      <td>1385</td>\n",
       "      <td>2103</td>\n",
       "      <td>False</td>\n",
       "    </tr>\n",
       "    <tr>\n",
       "      <th>1727</th>\n",
       "      <td>98</td>\n",
       "      <td>Scrabble® GO - New Word Game</td>\n",
       "      <td>110723</td>\n",
       "      <td>10.0 M</td>\n",
       "      <td>4</td>\n",
       "      <td>0.9</td>\n",
       "      <td>1.9</td>\n",
       "      <td>0.0</td>\n",
       "      <td>GAME WORD</td>\n",
       "      <td>64184</td>\n",
       "      <td>18332</td>\n",
       "      <td>9385</td>\n",
       "      <td>6688</td>\n",
       "      <td>12132</td>\n",
       "      <td>False</td>\n",
       "    </tr>\n",
       "    <tr>\n",
       "      <th>1728</th>\n",
       "      <td>99</td>\n",
       "      <td>Word Nut: Word Puzzle Games &amp; Crosswords</td>\n",
       "      <td>109530</td>\n",
       "      <td>5.0 M</td>\n",
       "      <td>4</td>\n",
       "      <td>1.9</td>\n",
       "      <td>4.1</td>\n",
       "      <td>0.0</td>\n",
       "      <td>GAME WORD</td>\n",
       "      <td>99987</td>\n",
       "      <td>4766</td>\n",
       "      <td>1469</td>\n",
       "      <td>953</td>\n",
       "      <td>2353</td>\n",
       "      <td>False</td>\n",
       "    </tr>\n",
       "    <tr>\n",
       "      <th>1729</th>\n",
       "      <td>100</td>\n",
       "      <td>Pinturillo 2</td>\n",
       "      <td>108917</td>\n",
       "      <td>10.0 M</td>\n",
       "      <td>3</td>\n",
       "      <td>1.1</td>\n",
       "      <td>2.5</td>\n",
       "      <td>0.0</td>\n",
       "      <td>GAME WORD</td>\n",
       "      <td>50813</td>\n",
       "      <td>16480</td>\n",
       "      <td>11825</td>\n",
       "      <td>6166</td>\n",
       "      <td>23631</td>\n",
       "      <td>False</td>\n",
       "    </tr>\n",
       "  </tbody>\n",
       "</table>\n",
       "<p>1730 rows × 15 columns</p>\n",
       "</div>"
      ],
      "text/plain": [
       "      rank                                         title  total ratings  \\\n",
       "0        1                Garena Free Fire- World Series       86273129   \n",
       "1        2                        PUBG MOBILE - Traverse       37276732   \n",
       "2        3                     Mobile Legends: Bang Bang       26663595   \n",
       "3        4                                   Brawl Stars       17971552   \n",
       "4        5  Sniper 3D: Fun Free Online FPS Shooting Game       14464235   \n",
       "...    ...                                           ...            ...   \n",
       "1725    96                 زوايا - لعبة ستحرك زوايا عقلك         112408   \n",
       "1726    97     Bible Word Puzzle - Free Bible Word Games         111595   \n",
       "1727    98                  Scrabble® GO - New Word Game         110723   \n",
       "1728    99      Word Nut: Word Puzzle Games & Crosswords         109530   \n",
       "1729   100                                  Pinturillo 2         108917   \n",
       "\n",
       "     installs  average rating  growth (30 days)  growth (60 days)  price  \\\n",
       "0     500.0 M               4               2.1               6.9    0.0   \n",
       "1     500.0 M               4               1.8               3.6    0.0   \n",
       "2     100.0 M               4               1.5               3.2    0.0   \n",
       "3     100.0 M               4               1.4               4.4    0.0   \n",
       "4     500.0 M               4               0.8               1.5    0.0   \n",
       "...       ...             ...               ...               ...    ...   \n",
       "1725    1.0 M               4               0.9               1.8    0.0   \n",
       "1726    1.0 M               4               0.9               2.3    0.0   \n",
       "1727   10.0 M               4               0.9               1.9    0.0   \n",
       "1728    5.0 M               4               1.9               4.1    0.0   \n",
       "1729   10.0 M               3               1.1               2.5    0.0   \n",
       "\n",
       "         category  5 star ratings  4 star ratings  3 star ratings  \\\n",
       "0     GAME ACTION        63546766         4949507         3158756   \n",
       "1     GAME ACTION        28339753         2164478         1253185   \n",
       "2     GAME ACTION        18777988         1812094         1050600   \n",
       "3     GAME ACTION        13018610         1552950          774012   \n",
       "4     GAME ACTION         9827328         2124154         1047741   \n",
       "...           ...             ...             ...             ...   \n",
       "1725    GAME WORD          101036            3607            3237   \n",
       "1726    GAME WORD           88950           14856            4297   \n",
       "1727    GAME WORD           64184           18332            9385   \n",
       "1728    GAME WORD           99987            4766            1469   \n",
       "1729    GAME WORD           50813           16480           11825   \n",
       "\n",
       "      2 star ratings  1 star ratings   paid  \n",
       "0            2122183        12495915  False  \n",
       "1             809821         4709492  False  \n",
       "2             713912         4308998  False  \n",
       "3             406184         2219794  False  \n",
       "4             380670         1084340  False  \n",
       "...              ...             ...    ...  \n",
       "1725            1229            3297  False  \n",
       "1726            1385            2103  False  \n",
       "1727            6688           12132  False  \n",
       "1728             953            2353  False  \n",
       "1729            6166           23631  False  \n",
       "\n",
       "[1730 rows x 15 columns]"
      ]
     },
     "execution_count": 8,
     "metadata": {},
     "output_type": "execute_result"
    }
   ],
   "source": [
    "import pandas as pd\n",
    "import numpy as np\n",
    "import matplotlib.pyplot as plt\n",
    "bikes = pd.read_csv('android-games[1].csv')\n",
    "bikes"
   ]
  },
  {
   "cell_type": "code",
   "execution_count": 9,
   "id": "e6644808",
   "metadata": {},
   "outputs": [
    {
     "data": {
      "text/plain": [
       "category\n",
       "GAME ACTION          3.890000\n",
       "GAME ADVENTURE       3.850000\n",
       "GAME ARCADE          3.910000\n",
       "GAME BOARD           3.930000\n",
       "GAME CARD            3.936508\n",
       "GAME CASINO          3.950000\n",
       "GAME CASUAL          3.950000\n",
       "GAME EDUCATIONAL     3.890000\n",
       "GAME MUSIC           3.800000\n",
       "GAME PUZZLE          3.940000\n",
       "GAME RACING          3.960000\n",
       "GAME ROLE PLAYING    3.890000\n",
       "GAME SIMULATION      3.940000\n",
       "GAME SPORTS          3.920000\n",
       "GAME STRATEGY        3.880000\n",
       "GAME TRIVIA          3.850000\n",
       "GAME WORD            3.942308\n",
       "Name: average rating, dtype: float64"
      ]
     },
     "execution_count": 9,
     "metadata": {},
     "output_type": "execute_result"
    }
   ],
   "source": [
    "bikes.groupby('category')['average rating'].mean()"
   ]
  },
  {
   "cell_type": "code",
   "execution_count": 10,
   "id": "1ad578d2",
   "metadata": {},
   "outputs": [],
   "source": [
    "average_rating_by_genre = bikes.groupby('category')['average rating'].mean()"
   ]
  },
  {
   "cell_type": "code",
   "execution_count": 15,
   "id": "c3e9226c",
   "metadata": {},
   "outputs": [
    {
     "data": {
      "text/plain": [
       "<BarContainer object of 17 artists>"
      ]
     },
     "execution_count": 15,
     "metadata": {},
     "output_type": "execute_result"
    },
    {
     "data": {
      "image/png": "[encoded data removed]",
      "text/plain": [
       "<Figure size 640x480 with 1 Axes>"
      ]
     },
     "metadata": {},
     "output_type": "display_data"
    }
   ],
   "source": [
    "plt.bar(average_rating_by_genre.index, average_rating_by_genre, color='red')"
   ]
  },
  {
   "cell_type": "markdown",
   "id": "b996f0ad",
   "metadata": {},
   "source": [
    "**можно отметить что пользователи игры жанра GAME MUSIC наиболее ревностно относятся к эанру, при этом играми GAME RACING пользователи особенно довольны, не считая провала Музыкальных игр разница между средней оценкой топ 100 игр GOOGLE PLAY по жанрам не колоссальная** "
   ]
  },
  {
   "cell_type": "code",
   "execution_count": null,
   "id": "ab2b886e",
   "metadata": {},
   "outputs": [],
   "source": []
  }
 ],
 "metadata": {
  "kernelspec": {
   "display_name": "Python 3 (ipykernel)",
   "language": "python",
   "name": "python3"
  },
  "language_info": {
   "codemirror_mode": {
    "name": "ipython",
    "version": 3
   },
   "file_extension": ".py",
   "mimetype": "text/x-python",
   "name": "python",
   "nbconvert_exporter": "python",
   "pygments_lexer": "ipython3",
   "version": "3.9.13"
  }
 },
 "nbformat": 4,
 "nbformat_minor": 5
}
